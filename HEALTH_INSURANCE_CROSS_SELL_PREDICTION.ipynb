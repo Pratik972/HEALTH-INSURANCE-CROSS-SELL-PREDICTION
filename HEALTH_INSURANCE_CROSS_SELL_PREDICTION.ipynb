{
  "cells": [
    {
      "cell_type": "markdown",
      "metadata": {
        "id": "view-in-github",
        "colab_type": "text"
      },
      "source": [
        "<a href=\"https://colab.research.google.com/github/Pratik972/HEALTH-INSURANCE-CROSS-SELL-PREDICTION/blob/main/HEALTH_INSURANCE_CROSS_SELL_PREDICTION.ipynb\" target=\"_parent\"><img src=\"https://colab.research.google.com/assets/colab-badge.svg\" alt=\"Open In Colab\"/></a>"
      ]
    },
    {
      "cell_type": "markdown",
      "metadata": {
        "id": "nII4F13_GfUp"
      },
      "source": [
        "# **Problem Statement**\n"
      ]
    },
    {
      "cell_type": "markdown",
      "metadata": {
        "id": "t7xXNsgkGg40"
      },
      "source": [
        "Our client is an Insurance company that has provided Health Insurance to its customers now they need your help in building a model to predict whether the policyholders (customers) from past year will also be interested in Vehicle Insurance provided by the company.\n",
        "\n",
        "An insurance policy is an arrangement by which a company undertakes to provide a guarantee of compensation for specified loss, damage, illness, or death in return for the payment of a specified premium. A premium is a sum of money that the customer needs to pay regularly to an insurance company for this guarantee.\n",
        "\n",
        "For example, you may pay a premium of Rs. 5000 each year for a health insurance cover of Rs. 200,000/- so that if, God forbid, you fall ill and need to be hospitalised in that year, the insurance provider company will bear the cost of hospitalisation etc. for upto Rs. 200,000. Now if you are wondering how can company bear such high hospitalisation cost when it charges a premium of only Rs. 5000/-, that is where the concept of probabilities comes in picture. For example, like you, there may be 100 customers who would be paying a premium of Rs. 5000 every year, but only a few of them (say 2-3) would get hospitalised that year and not everyone. This way everyone shares the risk of everyone else.\n",
        "\n",
        "Just like medical insurance, there is vehicle insurance where every year customer needs to pay a premium of certain amount to insurance provider company so that in case of unfortunate accident by the vehicle, the insurance provider company will provide a compensation (called ‘sum assured’) to the customer.\n",
        "\n",
        "Building a model to predict whether a customer would be interested in Vehicle Insurance is extremely helpful for the company because it can then accordingly plan its communication strategy to reach out to those customers and optimise its business model and revenue.\n",
        "\n",
        "Now, in order to predict, whether the customer would be interested in Vehicle insurance, you have information about demographics (gender, age, region code type), Vehicles (Vehicle Age, Damage), Policy (Premium, sourcing channel) etc."
      ]
    },
    {
      "cell_type": "markdown",
      "metadata": {
        "id": "0U5JWtf8Gl7N"
      },
      "source": [
        "# **Attribute Information**"
      ]
    },
    {
      "cell_type": "markdown",
      "metadata": {
        "id": "pF5v6avyGrlV"
      },
      "source": [
        "1. id :\tUnique ID for the customer\n",
        "\n",
        "2. Gender\t: Gender of the customer\n",
        "\n",
        "3. Age :\tAge of the customer\n",
        "\n",
        "4. Driving_License\t0 : Customer does not have DL, 1 : Customer already has DL\n",
        "\n",
        "5. Region_Code :\tUnique code for the region of the customer\n",
        "\n",
        "6. Previously_Insured\t: 1 : Customer already has Vehicle Insurance, 0 : Customer doesn't have Vehicle Insurance\n",
        "\n",
        "7. Vehicle_Age :\tAge of the Vehicle\n",
        "\n",
        "8. Vehicle_Damage\t :1 : Customer got his/her vehicle damaged in the past. 0 : Customer didn't get his/her vehicle damaged in the past.\n",
        "\n",
        "9. Annual_Premium\t: The amount customer needs to pay as premium in the year\n",
        "\n",
        "10. PolicySalesChannel :\tAnonymized Code for the channel of outreaching to the customer ie. Different Agents, Over Mail, Over Phone, In Person, etc.\n",
        "\n",
        "11. Vintage :\tNumber of Days, Customer has been associated with the company\n",
        "\n",
        "12. Response :\t1 : Customer is interested, 0 : Customer is not interested"
      ]
    },
    {
      "cell_type": "code",
      "execution_count": 2,
      "metadata": {
        "id": "JHDGDJKfPJdm"
      },
      "outputs": [],
      "source": [
        "# Importing libraries for data handling\n",
        "import pandas as pd\n",
        "import numpy as np\n",
        "\n",
        "# Importing libraries for data visualization\n",
        "import matplotlib.pyplot as plt\n",
        "import seaborn as sns\n",
        "\n",
        "# To avoid the warning that aren't necessarily exceptions\n",
        "import warnings\n",
        "warnings.filterwarnings('ignore')\n",
        "\n",
        "# Feature Engineering libraries\n",
        "from sklearn.model_selection import train_test_split \n",
        "from collections import Counter\n",
        "from sklearn.preprocessing import StandardScaler, OneHotEncoder, LabelEncoder\n",
        "from sklearn.preprocessing import MinMaxScaler\n",
        "\n",
        "# Model Selection and Metrics libraries\n",
        "from sklearn.linear_model import LogisticRegression\n",
        "from sklearn.tree import DecisionTreeClassifier\n",
        "from sklearn.ensemble import RandomForestClassifier\n",
        "import xgboost as xgb\n",
        "from sklearn.metrics import precision_score,recall_score,accuracy_score,f1_score,confusion_matrix,roc_auc_score,classification_report\n",
        "from sklearn.metrics import confusion_matrix,classification_report,plot_confusion_matrix\n",
        "from sklearn.metrics import plot_precision_recall_curve,plot_roc_curve"
      ]
    },
    {
      "cell_type": "code",
      "execution_count": 3,
      "metadata": {
        "colab": {
          "base_uri": "https://localhost:8080/"
        },
        "id": "vq5zNwCw8zP_",
        "outputId": "ab9396a8-da31-4424-9ac2-80f9a10968f1"
      },
      "outputs": [
        {
          "output_type": "stream",
          "name": "stdout",
          "text": [
            "Drive already mounted at /content/drive; to attempt to forcibly remount, call drive.mount(\"/content/drive\", force_remount=True).\n"
          ]
        }
      ],
      "source": [
        "# Mounting of Device \n",
        "from google.colab import drive\n",
        "drive.mount('/content/drive')"
      ]
    },
    {
      "cell_type": "code",
      "execution_count": 4,
      "metadata": {
        "id": "n2sxNa4c8zn8"
      },
      "outputs": [],
      "source": [
        "# path to csv file\n",
        "path ='/content/drive/MyDrive/ML Project/Health insurance/TRAIN-HEALTH INSURANCE CROSS SELL PREDICTION.csv'"
      ]
    },
    {
      "cell_type": "code",
      "execution_count": 5,
      "metadata": {
        "id": "PlfgNbBX8tDm"
      },
      "outputs": [],
      "source": [
        "# loding of Data\n",
        "df=pd.read_csv(path)"
      ]
    },
    {
      "cell_type": "markdown",
      "metadata": {
        "id": "YiHNsv0oHHVs"
      },
      "source": [
        "# **Data** **Summary**"
      ]
    },
    {
      "cell_type": "code",
      "execution_count": 6,
      "metadata": {
        "colab": {
          "base_uri": "https://localhost:8080/",
          "height": 270
        },
        "id": "ck9cyyJk8tBE",
        "outputId": "0670fd89-7ded-40ec-b994-d30c3ff49456"
      },
      "outputs": [
        {
          "output_type": "execute_result",
          "data": {
            "text/plain": [
              "   id  Gender  Age  Driving_License  Region_Code  Previously_Insured  \\\n",
              "0   1    Male   44                1         28.0                   0   \n",
              "1   2    Male   76                1          3.0                   0   \n",
              "2   3    Male   47                1         28.0                   0   \n",
              "3   4    Male   21                1         11.0                   1   \n",
              "4   5  Female   29                1         41.0                   1   \n",
              "\n",
              "  Vehicle_Age Vehicle_Damage  Annual_Premium  Policy_Sales_Channel  Vintage  \\\n",
              "0   > 2 Years            Yes         40454.0                  26.0      217   \n",
              "1    1-2 Year             No         33536.0                  26.0      183   \n",
              "2   > 2 Years            Yes         38294.0                  26.0       27   \n",
              "3    < 1 Year             No         28619.0                 152.0      203   \n",
              "4    < 1 Year             No         27496.0                 152.0       39   \n",
              "\n",
              "   Response  \n",
              "0         1  \n",
              "1         0  \n",
              "2         1  \n",
              "3         0  \n",
              "4         0  "
            ],
            "text/html": [
              "\n",
              "  <div id=\"df-3d190808-cbb2-4cf2-a698-42b7b7930ec3\">\n",
              "    <div class=\"colab-df-container\">\n",
              "      <div>\n",
              "<style scoped>\n",
              "    .dataframe tbody tr th:only-of-type {\n",
              "        vertical-align: middle;\n",
              "    }\n",
              "\n",
              "    .dataframe tbody tr th {\n",
              "        vertical-align: top;\n",
              "    }\n",
              "\n",
              "    .dataframe thead th {\n",
              "        text-align: right;\n",
              "    }\n",
              "</style>\n",
              "<table border=\"1\" class=\"dataframe\">\n",
              "  <thead>\n",
              "    <tr style=\"text-align: right;\">\n",
              "      <th></th>\n",
              "      <th>id</th>\n",
              "      <th>Gender</th>\n",
              "      <th>Age</th>\n",
              "      <th>Driving_License</th>\n",
              "      <th>Region_Code</th>\n",
              "      <th>Previously_Insured</th>\n",
              "      <th>Vehicle_Age</th>\n",
              "      <th>Vehicle_Damage</th>\n",
              "      <th>Annual_Premium</th>\n",
              "      <th>Policy_Sales_Channel</th>\n",
              "      <th>Vintage</th>\n",
              "      <th>Response</th>\n",
              "    </tr>\n",
              "  </thead>\n",
              "  <tbody>\n",
              "    <tr>\n",
              "      <th>0</th>\n",
              "      <td>1</td>\n",
              "      <td>Male</td>\n",
              "      <td>44</td>\n",
              "      <td>1</td>\n",
              "      <td>28.0</td>\n",
              "      <td>0</td>\n",
              "      <td>&gt; 2 Years</td>\n",
              "      <td>Yes</td>\n",
              "      <td>40454.0</td>\n",
              "      <td>26.0</td>\n",
              "      <td>217</td>\n",
              "      <td>1</td>\n",
              "    </tr>\n",
              "    <tr>\n",
              "      <th>1</th>\n",
              "      <td>2</td>\n",
              "      <td>Male</td>\n",
              "      <td>76</td>\n",
              "      <td>1</td>\n",
              "      <td>3.0</td>\n",
              "      <td>0</td>\n",
              "      <td>1-2 Year</td>\n",
              "      <td>No</td>\n",
              "      <td>33536.0</td>\n",
              "      <td>26.0</td>\n",
              "      <td>183</td>\n",
              "      <td>0</td>\n",
              "    </tr>\n",
              "    <tr>\n",
              "      <th>2</th>\n",
              "      <td>3</td>\n",
              "      <td>Male</td>\n",
              "      <td>47</td>\n",
              "      <td>1</td>\n",
              "      <td>28.0</td>\n",
              "      <td>0</td>\n",
              "      <td>&gt; 2 Years</td>\n",
              "      <td>Yes</td>\n",
              "      <td>38294.0</td>\n",
              "      <td>26.0</td>\n",
              "      <td>27</td>\n",
              "      <td>1</td>\n",
              "    </tr>\n",
              "    <tr>\n",
              "      <th>3</th>\n",
              "      <td>4</td>\n",
              "      <td>Male</td>\n",
              "      <td>21</td>\n",
              "      <td>1</td>\n",
              "      <td>11.0</td>\n",
              "      <td>1</td>\n",
              "      <td>&lt; 1 Year</td>\n",
              "      <td>No</td>\n",
              "      <td>28619.0</td>\n",
              "      <td>152.0</td>\n",
              "      <td>203</td>\n",
              "      <td>0</td>\n",
              "    </tr>\n",
              "    <tr>\n",
              "      <th>4</th>\n",
              "      <td>5</td>\n",
              "      <td>Female</td>\n",
              "      <td>29</td>\n",
              "      <td>1</td>\n",
              "      <td>41.0</td>\n",
              "      <td>1</td>\n",
              "      <td>&lt; 1 Year</td>\n",
              "      <td>No</td>\n",
              "      <td>27496.0</td>\n",
              "      <td>152.0</td>\n",
              "      <td>39</td>\n",
              "      <td>0</td>\n",
              "    </tr>\n",
              "  </tbody>\n",
              "</table>\n",
              "</div>\n",
              "      <button class=\"colab-df-convert\" onclick=\"convertToInteractive('df-3d190808-cbb2-4cf2-a698-42b7b7930ec3')\"\n",
              "              title=\"Convert this dataframe to an interactive table.\"\n",
              "              style=\"display:none;\">\n",
              "        \n",
              "  <svg xmlns=\"http://www.w3.org/2000/svg\" height=\"24px\"viewBox=\"0 0 24 24\"\n",
              "       width=\"24px\">\n",
              "    <path d=\"M0 0h24v24H0V0z\" fill=\"none\"/>\n",
              "    <path d=\"M18.56 5.44l.94 2.06.94-2.06 2.06-.94-2.06-.94-.94-2.06-.94 2.06-2.06.94zm-11 1L8.5 8.5l.94-2.06 2.06-.94-2.06-.94L8.5 2.5l-.94 2.06-2.06.94zm10 10l.94 2.06.94-2.06 2.06-.94-2.06-.94-.94-2.06-.94 2.06-2.06.94z\"/><path d=\"M17.41 7.96l-1.37-1.37c-.4-.4-.92-.59-1.43-.59-.52 0-1.04.2-1.43.59L10.3 9.45l-7.72 7.72c-.78.78-.78 2.05 0 2.83L4 21.41c.39.39.9.59 1.41.59.51 0 1.02-.2 1.41-.59l7.78-7.78 2.81-2.81c.8-.78.8-2.07 0-2.86zM5.41 20L4 18.59l7.72-7.72 1.47 1.35L5.41 20z\"/>\n",
              "  </svg>\n",
              "      </button>\n",
              "      \n",
              "  <style>\n",
              "    .colab-df-container {\n",
              "      display:flex;\n",
              "      flex-wrap:wrap;\n",
              "      gap: 12px;\n",
              "    }\n",
              "\n",
              "    .colab-df-convert {\n",
              "      background-color: #E8F0FE;\n",
              "      border: none;\n",
              "      border-radius: 50%;\n",
              "      cursor: pointer;\n",
              "      display: none;\n",
              "      fill: #1967D2;\n",
              "      height: 32px;\n",
              "      padding: 0 0 0 0;\n",
              "      width: 32px;\n",
              "    }\n",
              "\n",
              "    .colab-df-convert:hover {\n",
              "      background-color: #E2EBFA;\n",
              "      box-shadow: 0px 1px 2px rgba(60, 64, 67, 0.3), 0px 1px 3px 1px rgba(60, 64, 67, 0.15);\n",
              "      fill: #174EA6;\n",
              "    }\n",
              "\n",
              "    [theme=dark] .colab-df-convert {\n",
              "      background-color: #3B4455;\n",
              "      fill: #D2E3FC;\n",
              "    }\n",
              "\n",
              "    [theme=dark] .colab-df-convert:hover {\n",
              "      background-color: #434B5C;\n",
              "      box-shadow: 0px 1px 3px 1px rgba(0, 0, 0, 0.15);\n",
              "      filter: drop-shadow(0px 1px 2px rgba(0, 0, 0, 0.3));\n",
              "      fill: #FFFFFF;\n",
              "    }\n",
              "  </style>\n",
              "\n",
              "      <script>\n",
              "        const buttonEl =\n",
              "          document.querySelector('#df-3d190808-cbb2-4cf2-a698-42b7b7930ec3 button.colab-df-convert');\n",
              "        buttonEl.style.display =\n",
              "          google.colab.kernel.accessAllowed ? 'block' : 'none';\n",
              "\n",
              "        async function convertToInteractive(key) {\n",
              "          const element = document.querySelector('#df-3d190808-cbb2-4cf2-a698-42b7b7930ec3');\n",
              "          const dataTable =\n",
              "            await google.colab.kernel.invokeFunction('convertToInteractive',\n",
              "                                                     [key], {});\n",
              "          if (!dataTable) return;\n",
              "\n",
              "          const docLinkHtml = 'Like what you see? Visit the ' +\n",
              "            '<a target=\"_blank\" href=https://colab.research.google.com/notebooks/data_table.ipynb>data table notebook</a>'\n",
              "            + ' to learn more about interactive tables.';\n",
              "          element.innerHTML = '';\n",
              "          dataTable['output_type'] = 'display_data';\n",
              "          await google.colab.output.renderOutput(dataTable, element);\n",
              "          const docLink = document.createElement('div');\n",
              "          docLink.innerHTML = docLinkHtml;\n",
              "          element.appendChild(docLink);\n",
              "        }\n",
              "      </script>\n",
              "    </div>\n",
              "  </div>\n",
              "  "
            ]
          },
          "metadata": {},
          "execution_count": 6
        }
      ],
      "source": [
        "df.head()"
      ]
    },
    {
      "cell_type": "code",
      "execution_count": 7,
      "metadata": {
        "colab": {
          "base_uri": "https://localhost:8080/",
          "height": 270
        },
        "id": "a0OjscJPDmYD",
        "outputId": "118e1ecb-392d-4173-b1a2-aed284a3b1af"
      },
      "outputs": [
        {
          "output_type": "execute_result",
          "data": {
            "text/plain": [
              "            id  Gender  Age  Driving_License  Region_Code  Previously_Insured  \\\n",
              "381104  381105    Male   74                1         26.0                   1   \n",
              "381105  381106    Male   30                1         37.0                   1   \n",
              "381106  381107    Male   21                1         30.0                   1   \n",
              "381107  381108  Female   68                1         14.0                   0   \n",
              "381108  381109    Male   46                1         29.0                   0   \n",
              "\n",
              "       Vehicle_Age Vehicle_Damage  Annual_Premium  Policy_Sales_Channel  \\\n",
              "381104    1-2 Year             No         30170.0                  26.0   \n",
              "381105    < 1 Year             No         40016.0                 152.0   \n",
              "381106    < 1 Year             No         35118.0                 160.0   \n",
              "381107   > 2 Years            Yes         44617.0                 124.0   \n",
              "381108    1-2 Year             No         41777.0                  26.0   \n",
              "\n",
              "        Vintage  Response  \n",
              "381104       88         0  \n",
              "381105      131         0  \n",
              "381106      161         0  \n",
              "381107       74         0  \n",
              "381108      237         0  "
            ],
            "text/html": [
              "\n",
              "  <div id=\"df-bcd1b321-6960-4924-9540-7b1858e13010\">\n",
              "    <div class=\"colab-df-container\">\n",
              "      <div>\n",
              "<style scoped>\n",
              "    .dataframe tbody tr th:only-of-type {\n",
              "        vertical-align: middle;\n",
              "    }\n",
              "\n",
              "    .dataframe tbody tr th {\n",
              "        vertical-align: top;\n",
              "    }\n",
              "\n",
              "    .dataframe thead th {\n",
              "        text-align: right;\n",
              "    }\n",
              "</style>\n",
              "<table border=\"1\" class=\"dataframe\">\n",
              "  <thead>\n",
              "    <tr style=\"text-align: right;\">\n",
              "      <th></th>\n",
              "      <th>id</th>\n",
              "      <th>Gender</th>\n",
              "      <th>Age</th>\n",
              "      <th>Driving_License</th>\n",
              "      <th>Region_Code</th>\n",
              "      <th>Previously_Insured</th>\n",
              "      <th>Vehicle_Age</th>\n",
              "      <th>Vehicle_Damage</th>\n",
              "      <th>Annual_Premium</th>\n",
              "      <th>Policy_Sales_Channel</th>\n",
              "      <th>Vintage</th>\n",
              "      <th>Response</th>\n",
              "    </tr>\n",
              "  </thead>\n",
              "  <tbody>\n",
              "    <tr>\n",
              "      <th>381104</th>\n",
              "      <td>381105</td>\n",
              "      <td>Male</td>\n",
              "      <td>74</td>\n",
              "      <td>1</td>\n",
              "      <td>26.0</td>\n",
              "      <td>1</td>\n",
              "      <td>1-2 Year</td>\n",
              "      <td>No</td>\n",
              "      <td>30170.0</td>\n",
              "      <td>26.0</td>\n",
              "      <td>88</td>\n",
              "      <td>0</td>\n",
              "    </tr>\n",
              "    <tr>\n",
              "      <th>381105</th>\n",
              "      <td>381106</td>\n",
              "      <td>Male</td>\n",
              "      <td>30</td>\n",
              "      <td>1</td>\n",
              "      <td>37.0</td>\n",
              "      <td>1</td>\n",
              "      <td>&lt; 1 Year</td>\n",
              "      <td>No</td>\n",
              "      <td>40016.0</td>\n",
              "      <td>152.0</td>\n",
              "      <td>131</td>\n",
              "      <td>0</td>\n",
              "    </tr>\n",
              "    <tr>\n",
              "      <th>381106</th>\n",
              "      <td>381107</td>\n",
              "      <td>Male</td>\n",
              "      <td>21</td>\n",
              "      <td>1</td>\n",
              "      <td>30.0</td>\n",
              "      <td>1</td>\n",
              "      <td>&lt; 1 Year</td>\n",
              "      <td>No</td>\n",
              "      <td>35118.0</td>\n",
              "      <td>160.0</td>\n",
              "      <td>161</td>\n",
              "      <td>0</td>\n",
              "    </tr>\n",
              "    <tr>\n",
              "      <th>381107</th>\n",
              "      <td>381108</td>\n",
              "      <td>Female</td>\n",
              "      <td>68</td>\n",
              "      <td>1</td>\n",
              "      <td>14.0</td>\n",
              "      <td>0</td>\n",
              "      <td>&gt; 2 Years</td>\n",
              "      <td>Yes</td>\n",
              "      <td>44617.0</td>\n",
              "      <td>124.0</td>\n",
              "      <td>74</td>\n",
              "      <td>0</td>\n",
              "    </tr>\n",
              "    <tr>\n",
              "      <th>381108</th>\n",
              "      <td>381109</td>\n",
              "      <td>Male</td>\n",
              "      <td>46</td>\n",
              "      <td>1</td>\n",
              "      <td>29.0</td>\n",
              "      <td>0</td>\n",
              "      <td>1-2 Year</td>\n",
              "      <td>No</td>\n",
              "      <td>41777.0</td>\n",
              "      <td>26.0</td>\n",
              "      <td>237</td>\n",
              "      <td>0</td>\n",
              "    </tr>\n",
              "  </tbody>\n",
              "</table>\n",
              "</div>\n",
              "      <button class=\"colab-df-convert\" onclick=\"convertToInteractive('df-bcd1b321-6960-4924-9540-7b1858e13010')\"\n",
              "              title=\"Convert this dataframe to an interactive table.\"\n",
              "              style=\"display:none;\">\n",
              "        \n",
              "  <svg xmlns=\"http://www.w3.org/2000/svg\" height=\"24px\"viewBox=\"0 0 24 24\"\n",
              "       width=\"24px\">\n",
              "    <path d=\"M0 0h24v24H0V0z\" fill=\"none\"/>\n",
              "    <path d=\"M18.56 5.44l.94 2.06.94-2.06 2.06-.94-2.06-.94-.94-2.06-.94 2.06-2.06.94zm-11 1L8.5 8.5l.94-2.06 2.06-.94-2.06-.94L8.5 2.5l-.94 2.06-2.06.94zm10 10l.94 2.06.94-2.06 2.06-.94-2.06-.94-.94-2.06-.94 2.06-2.06.94z\"/><path d=\"M17.41 7.96l-1.37-1.37c-.4-.4-.92-.59-1.43-.59-.52 0-1.04.2-1.43.59L10.3 9.45l-7.72 7.72c-.78.78-.78 2.05 0 2.83L4 21.41c.39.39.9.59 1.41.59.51 0 1.02-.2 1.41-.59l7.78-7.78 2.81-2.81c.8-.78.8-2.07 0-2.86zM5.41 20L4 18.59l7.72-7.72 1.47 1.35L5.41 20z\"/>\n",
              "  </svg>\n",
              "      </button>\n",
              "      \n",
              "  <style>\n",
              "    .colab-df-container {\n",
              "      display:flex;\n",
              "      flex-wrap:wrap;\n",
              "      gap: 12px;\n",
              "    }\n",
              "\n",
              "    .colab-df-convert {\n",
              "      background-color: #E8F0FE;\n",
              "      border: none;\n",
              "      border-radius: 50%;\n",
              "      cursor: pointer;\n",
              "      display: none;\n",
              "      fill: #1967D2;\n",
              "      height: 32px;\n",
              "      padding: 0 0 0 0;\n",
              "      width: 32px;\n",
              "    }\n",
              "\n",
              "    .colab-df-convert:hover {\n",
              "      background-color: #E2EBFA;\n",
              "      box-shadow: 0px 1px 2px rgba(60, 64, 67, 0.3), 0px 1px 3px 1px rgba(60, 64, 67, 0.15);\n",
              "      fill: #174EA6;\n",
              "    }\n",
              "\n",
              "    [theme=dark] .colab-df-convert {\n",
              "      background-color: #3B4455;\n",
              "      fill: #D2E3FC;\n",
              "    }\n",
              "\n",
              "    [theme=dark] .colab-df-convert:hover {\n",
              "      background-color: #434B5C;\n",
              "      box-shadow: 0px 1px 3px 1px rgba(0, 0, 0, 0.15);\n",
              "      filter: drop-shadow(0px 1px 2px rgba(0, 0, 0, 0.3));\n",
              "      fill: #FFFFFF;\n",
              "    }\n",
              "  </style>\n",
              "\n",
              "      <script>\n",
              "        const buttonEl =\n",
              "          document.querySelector('#df-bcd1b321-6960-4924-9540-7b1858e13010 button.colab-df-convert');\n",
              "        buttonEl.style.display =\n",
              "          google.colab.kernel.accessAllowed ? 'block' : 'none';\n",
              "\n",
              "        async function convertToInteractive(key) {\n",
              "          const element = document.querySelector('#df-bcd1b321-6960-4924-9540-7b1858e13010');\n",
              "          const dataTable =\n",
              "            await google.colab.kernel.invokeFunction('convertToInteractive',\n",
              "                                                     [key], {});\n",
              "          if (!dataTable) return;\n",
              "\n",
              "          const docLinkHtml = 'Like what you see? Visit the ' +\n",
              "            '<a target=\"_blank\" href=https://colab.research.google.com/notebooks/data_table.ipynb>data table notebook</a>'\n",
              "            + ' to learn more about interactive tables.';\n",
              "          element.innerHTML = '';\n",
              "          dataTable['output_type'] = 'display_data';\n",
              "          await google.colab.output.renderOutput(dataTable, element);\n",
              "          const docLink = document.createElement('div');\n",
              "          docLink.innerHTML = docLinkHtml;\n",
              "          element.appendChild(docLink);\n",
              "        }\n",
              "      </script>\n",
              "    </div>\n",
              "  </div>\n",
              "  "
            ]
          },
          "metadata": {},
          "execution_count": 7
        }
      ],
      "source": [
        "df.tail()"
      ]
    },
    {
      "cell_type": "code",
      "execution_count": 8,
      "metadata": {
        "colab": {
          "base_uri": "https://localhost:8080/"
        },
        "id": "reH0ebuKDmVW",
        "outputId": "517044af-6ab8-4c73-d1ed-b382310903c7"
      },
      "outputs": [
        {
          "output_type": "execute_result",
          "data": {
            "text/plain": [
              "(381109, 12)"
            ]
          },
          "metadata": {},
          "execution_count": 8
        }
      ],
      "source": [
        "# Size of dataset\n",
        "df.shape"
      ]
    },
    {
      "cell_type": "code",
      "execution_count": 9,
      "metadata": {
        "colab": {
          "base_uri": "https://localhost:8080/"
        },
        "id": "9CDMUpM-HOng",
        "outputId": "f8190d1f-efa5-4660-9bb2-93d53ff2f3e8"
      },
      "outputs": [
        {
          "output_type": "stream",
          "name": "stdout",
          "text": [
            "<class 'pandas.core.frame.DataFrame'>\n",
            "RangeIndex: 381109 entries, 0 to 381108\n",
            "Data columns (total 12 columns):\n",
            " #   Column                Non-Null Count   Dtype  \n",
            "---  ------                --------------   -----  \n",
            " 0   id                    381109 non-null  int64  \n",
            " 1   Gender                381109 non-null  object \n",
            " 2   Age                   381109 non-null  int64  \n",
            " 3   Driving_License       381109 non-null  int64  \n",
            " 4   Region_Code           381109 non-null  float64\n",
            " 5   Previously_Insured    381109 non-null  int64  \n",
            " 6   Vehicle_Age           381109 non-null  object \n",
            " 7   Vehicle_Damage        381109 non-null  object \n",
            " 8   Annual_Premium        381109 non-null  float64\n",
            " 9   Policy_Sales_Channel  381109 non-null  float64\n",
            " 10  Vintage               381109 non-null  int64  \n",
            " 11  Response              381109 non-null  int64  \n",
            "dtypes: float64(3), int64(6), object(3)\n",
            "memory usage: 34.9+ MB\n"
          ]
        }
      ],
      "source": [
        "df.info()"
      ]
    },
    {
      "cell_type": "markdown",
      "metadata": {
        "id": "4qvJTNUnHTQl"
      },
      "source": [
        "*   As per the above observations no null values \n",
        "\n",
        "*  Dataset consists of 381109 rowes and 12 columns "
      ]
    },
    {
      "cell_type": "code",
      "execution_count": 10,
      "metadata": {
        "colab": {
          "base_uri": "https://localhost:8080/",
          "height": 364
        },
        "id": "6ge4Y95_HQih",
        "outputId": "11be0dc4-b198-4f57-b84f-9afc2bd30535"
      },
      "outputs": [
        {
          "output_type": "execute_result",
          "data": {
            "text/plain": [
              "                  id            Age  Driving_License    Region_Code  \\\n",
              "count  381109.000000  381109.000000    381109.000000  381109.000000   \n",
              "mean   190555.000000      38.822584         0.997869      26.388807   \n",
              "std    110016.836208      15.511611         0.046110      13.229888   \n",
              "min         1.000000      20.000000         0.000000       0.000000   \n",
              "25%     95278.000000      25.000000         1.000000      15.000000   \n",
              "50%    190555.000000      36.000000         1.000000      28.000000   \n",
              "75%    285832.000000      49.000000         1.000000      35.000000   \n",
              "max    381109.000000      85.000000         1.000000      52.000000   \n",
              "\n",
              "       Previously_Insured  Annual_Premium  Policy_Sales_Channel  \\\n",
              "count       381109.000000   381109.000000         381109.000000   \n",
              "mean             0.458210    30564.389581            112.034295   \n",
              "std              0.498251    17213.155057             54.203995   \n",
              "min              0.000000     2630.000000              1.000000   \n",
              "25%              0.000000    24405.000000             29.000000   \n",
              "50%              0.000000    31669.000000            133.000000   \n",
              "75%              1.000000    39400.000000            152.000000   \n",
              "max              1.000000   540165.000000            163.000000   \n",
              "\n",
              "             Vintage       Response  \n",
              "count  381109.000000  381109.000000  \n",
              "mean      154.347397       0.122563  \n",
              "std        83.671304       0.327936  \n",
              "min        10.000000       0.000000  \n",
              "25%        82.000000       0.000000  \n",
              "50%       154.000000       0.000000  \n",
              "75%       227.000000       0.000000  \n",
              "max       299.000000       1.000000  "
            ],
            "text/html": [
              "\n",
              "  <div id=\"df-f8f05996-0294-46e0-90fb-fa21e779ea16\">\n",
              "    <div class=\"colab-df-container\">\n",
              "      <div>\n",
              "<style scoped>\n",
              "    .dataframe tbody tr th:only-of-type {\n",
              "        vertical-align: middle;\n",
              "    }\n",
              "\n",
              "    .dataframe tbody tr th {\n",
              "        vertical-align: top;\n",
              "    }\n",
              "\n",
              "    .dataframe thead th {\n",
              "        text-align: right;\n",
              "    }\n",
              "</style>\n",
              "<table border=\"1\" class=\"dataframe\">\n",
              "  <thead>\n",
              "    <tr style=\"text-align: right;\">\n",
              "      <th></th>\n",
              "      <th>id</th>\n",
              "      <th>Age</th>\n",
              "      <th>Driving_License</th>\n",
              "      <th>Region_Code</th>\n",
              "      <th>Previously_Insured</th>\n",
              "      <th>Annual_Premium</th>\n",
              "      <th>Policy_Sales_Channel</th>\n",
              "      <th>Vintage</th>\n",
              "      <th>Response</th>\n",
              "    </tr>\n",
              "  </thead>\n",
              "  <tbody>\n",
              "    <tr>\n",
              "      <th>count</th>\n",
              "      <td>381109.000000</td>\n",
              "      <td>381109.000000</td>\n",
              "      <td>381109.000000</td>\n",
              "      <td>381109.000000</td>\n",
              "      <td>381109.000000</td>\n",
              "      <td>381109.000000</td>\n",
              "      <td>381109.000000</td>\n",
              "      <td>381109.000000</td>\n",
              "      <td>381109.000000</td>\n",
              "    </tr>\n",
              "    <tr>\n",
              "      <th>mean</th>\n",
              "      <td>190555.000000</td>\n",
              "      <td>38.822584</td>\n",
              "      <td>0.997869</td>\n",
              "      <td>26.388807</td>\n",
              "      <td>0.458210</td>\n",
              "      <td>30564.389581</td>\n",
              "      <td>112.034295</td>\n",
              "      <td>154.347397</td>\n",
              "      <td>0.122563</td>\n",
              "    </tr>\n",
              "    <tr>\n",
              "      <th>std</th>\n",
              "      <td>110016.836208</td>\n",
              "      <td>15.511611</td>\n",
              "      <td>0.046110</td>\n",
              "      <td>13.229888</td>\n",
              "      <td>0.498251</td>\n",
              "      <td>17213.155057</td>\n",
              "      <td>54.203995</td>\n",
              "      <td>83.671304</td>\n",
              "      <td>0.327936</td>\n",
              "    </tr>\n",
              "    <tr>\n",
              "      <th>min</th>\n",
              "      <td>1.000000</td>\n",
              "      <td>20.000000</td>\n",
              "      <td>0.000000</td>\n",
              "      <td>0.000000</td>\n",
              "      <td>0.000000</td>\n",
              "      <td>2630.000000</td>\n",
              "      <td>1.000000</td>\n",
              "      <td>10.000000</td>\n",
              "      <td>0.000000</td>\n",
              "    </tr>\n",
              "    <tr>\n",
              "      <th>25%</th>\n",
              "      <td>95278.000000</td>\n",
              "      <td>25.000000</td>\n",
              "      <td>1.000000</td>\n",
              "      <td>15.000000</td>\n",
              "      <td>0.000000</td>\n",
              "      <td>24405.000000</td>\n",
              "      <td>29.000000</td>\n",
              "      <td>82.000000</td>\n",
              "      <td>0.000000</td>\n",
              "    </tr>\n",
              "    <tr>\n",
              "      <th>50%</th>\n",
              "      <td>190555.000000</td>\n",
              "      <td>36.000000</td>\n",
              "      <td>1.000000</td>\n",
              "      <td>28.000000</td>\n",
              "      <td>0.000000</td>\n",
              "      <td>31669.000000</td>\n",
              "      <td>133.000000</td>\n",
              "      <td>154.000000</td>\n",
              "      <td>0.000000</td>\n",
              "    </tr>\n",
              "    <tr>\n",
              "      <th>75%</th>\n",
              "      <td>285832.000000</td>\n",
              "      <td>49.000000</td>\n",
              "      <td>1.000000</td>\n",
              "      <td>35.000000</td>\n",
              "      <td>1.000000</td>\n",
              "      <td>39400.000000</td>\n",
              "      <td>152.000000</td>\n",
              "      <td>227.000000</td>\n",
              "      <td>0.000000</td>\n",
              "    </tr>\n",
              "    <tr>\n",
              "      <th>max</th>\n",
              "      <td>381109.000000</td>\n",
              "      <td>85.000000</td>\n",
              "      <td>1.000000</td>\n",
              "      <td>52.000000</td>\n",
              "      <td>1.000000</td>\n",
              "      <td>540165.000000</td>\n",
              "      <td>163.000000</td>\n",
              "      <td>299.000000</td>\n",
              "      <td>1.000000</td>\n",
              "    </tr>\n",
              "  </tbody>\n",
              "</table>\n",
              "</div>\n",
              "      <button class=\"colab-df-convert\" onclick=\"convertToInteractive('df-f8f05996-0294-46e0-90fb-fa21e779ea16')\"\n",
              "              title=\"Convert this dataframe to an interactive table.\"\n",
              "              style=\"display:none;\">\n",
              "        \n",
              "  <svg xmlns=\"http://www.w3.org/2000/svg\" height=\"24px\"viewBox=\"0 0 24 24\"\n",
              "       width=\"24px\">\n",
              "    <path d=\"M0 0h24v24H0V0z\" fill=\"none\"/>\n",
              "    <path d=\"M18.56 5.44l.94 2.06.94-2.06 2.06-.94-2.06-.94-.94-2.06-.94 2.06-2.06.94zm-11 1L8.5 8.5l.94-2.06 2.06-.94-2.06-.94L8.5 2.5l-.94 2.06-2.06.94zm10 10l.94 2.06.94-2.06 2.06-.94-2.06-.94-.94-2.06-.94 2.06-2.06.94z\"/><path d=\"M17.41 7.96l-1.37-1.37c-.4-.4-.92-.59-1.43-.59-.52 0-1.04.2-1.43.59L10.3 9.45l-7.72 7.72c-.78.78-.78 2.05 0 2.83L4 21.41c.39.39.9.59 1.41.59.51 0 1.02-.2 1.41-.59l7.78-7.78 2.81-2.81c.8-.78.8-2.07 0-2.86zM5.41 20L4 18.59l7.72-7.72 1.47 1.35L5.41 20z\"/>\n",
              "  </svg>\n",
              "      </button>\n",
              "      \n",
              "  <style>\n",
              "    .colab-df-container {\n",
              "      display:flex;\n",
              "      flex-wrap:wrap;\n",
              "      gap: 12px;\n",
              "    }\n",
              "\n",
              "    .colab-df-convert {\n",
              "      background-color: #E8F0FE;\n",
              "      border: none;\n",
              "      border-radius: 50%;\n",
              "      cursor: pointer;\n",
              "      display: none;\n",
              "      fill: #1967D2;\n",
              "      height: 32px;\n",
              "      padding: 0 0 0 0;\n",
              "      width: 32px;\n",
              "    }\n",
              "\n",
              "    .colab-df-convert:hover {\n",
              "      background-color: #E2EBFA;\n",
              "      box-shadow: 0px 1px 2px rgba(60, 64, 67, 0.3), 0px 1px 3px 1px rgba(60, 64, 67, 0.15);\n",
              "      fill: #174EA6;\n",
              "    }\n",
              "\n",
              "    [theme=dark] .colab-df-convert {\n",
              "      background-color: #3B4455;\n",
              "      fill: #D2E3FC;\n",
              "    }\n",
              "\n",
              "    [theme=dark] .colab-df-convert:hover {\n",
              "      background-color: #434B5C;\n",
              "      box-shadow: 0px 1px 3px 1px rgba(0, 0, 0, 0.15);\n",
              "      filter: drop-shadow(0px 1px 2px rgba(0, 0, 0, 0.3));\n",
              "      fill: #FFFFFF;\n",
              "    }\n",
              "  </style>\n",
              "\n",
              "      <script>\n",
              "        const buttonEl =\n",
              "          document.querySelector('#df-f8f05996-0294-46e0-90fb-fa21e779ea16 button.colab-df-convert');\n",
              "        buttonEl.style.display =\n",
              "          google.colab.kernel.accessAllowed ? 'block' : 'none';\n",
              "\n",
              "        async function convertToInteractive(key) {\n",
              "          const element = document.querySelector('#df-f8f05996-0294-46e0-90fb-fa21e779ea16');\n",
              "          const dataTable =\n",
              "            await google.colab.kernel.invokeFunction('convertToInteractive',\n",
              "                                                     [key], {});\n",
              "          if (!dataTable) return;\n",
              "\n",
              "          const docLinkHtml = 'Like what you see? Visit the ' +\n",
              "            '<a target=\"_blank\" href=https://colab.research.google.com/notebooks/data_table.ipynb>data table notebook</a>'\n",
              "            + ' to learn more about interactive tables.';\n",
              "          element.innerHTML = '';\n",
              "          dataTable['output_type'] = 'display_data';\n",
              "          await google.colab.output.renderOutput(dataTable, element);\n",
              "          const docLink = document.createElement('div');\n",
              "          docLink.innerHTML = docLinkHtml;\n",
              "          element.appendChild(docLink);\n",
              "        }\n",
              "      </script>\n",
              "    </div>\n",
              "  </div>\n",
              "  "
            ]
          },
          "metadata": {},
          "execution_count": 10
        }
      ],
      "source": [
        "df.describe()"
      ]
    },
    {
      "cell_type": "code",
      "execution_count": 11,
      "metadata": {
        "colab": {
          "base_uri": "https://localhost:8080/"
        },
        "id": "by0j0hcWDmS3",
        "outputId": "ba44b3ad-706f-4a6f-edd3-e028b180df7a"
      },
      "outputs": [
        {
          "output_type": "execute_result",
          "data": {
            "text/plain": [
              "id                      381109\n",
              "Gender                       2\n",
              "Age                         66\n",
              "Driving_License              2\n",
              "Region_Code                 53\n",
              "Previously_Insured           2\n",
              "Vehicle_Age                  3\n",
              "Vehicle_Damage               2\n",
              "Annual_Premium           48838\n",
              "Policy_Sales_Channel       155\n",
              "Vintage                    290\n",
              "Response                     2\n",
              "dtype: int64"
            ]
          },
          "metadata": {},
          "execution_count": 11
        }
      ],
      "source": [
        "# check uniqe value of features\n",
        "df.nunique()"
      ]
    },
    {
      "cell_type": "code",
      "execution_count": 12,
      "metadata": {
        "colab": {
          "base_uri": "https://localhost:8080/"
        },
        "id": "c3mLgXwyDmQW",
        "outputId": "bc2c1874-bb0f-4b35-f644-21a816e1ac92"
      },
      "outputs": [
        {
          "output_type": "execute_result",
          "data": {
            "text/plain": [
              "0"
            ]
          },
          "metadata": {},
          "execution_count": 12
        }
      ],
      "source": [
        "# cheking duplicates\n",
        "df.duplicated().sum()"
      ]
    },
    {
      "cell_type": "markdown",
      "metadata": {
        "id": "9-qhG9juHddl"
      },
      "source": [
        "NO duplicates value in the data set"
      ]
    },
    {
      "cell_type": "markdown",
      "metadata": {
        "id": "mCF5WO8IHgGy"
      },
      "source": [
        "# **Exploratory** **Data** **Analysis**"
      ]
    },
    {
      "cell_type": "code",
      "execution_count": 13,
      "metadata": {
        "colab": {
          "base_uri": "https://localhost:8080/",
          "height": 567
        },
        "id": "q-F2Zho-DmN3",
        "outputId": "27d70c1f-2246-4b36-a829-f4d58340f36b"
      },
      "outputs": [
        {
          "output_type": "display_data",
          "data": {
            "text/plain": [
              "<Figure size 1440x720 with 2 Axes>"
            ],
            "image/png": "[encoded data removed]"
          },
          "metadata": {
            "needs_background": "light"
          }
        }
      ],
      "source": [
        "# Target variable responce 0 = not intersted & 1 = intersted in insurance\n",
        "fig, axes = plt.subplots(ncols=2,figsize=(20,10))\n",
        "sns.countplot(df['Response'],data=df,ax=axes[0])\n",
        "plt.title('Not-interested vs intersted',fontsize=20)\n",
        "df['Response'].value_counts().plot.pie(autopct = '%.1f%%',ax = axes[1],explode = [0.02,0.02],colors='r')\n",
        "plt.show()"
      ]
    },
    {
      "cell_type": "markdown",
      "metadata": {
        "id": "4pin5B9bHmzp"
      },
      "source": [
        "The dataset is an imbalance problem the value of variable 1 is significantly lower than zero."
      ]
    },
    {
      "cell_type": "code",
      "execution_count": 14,
      "metadata": {
        "colab": {
          "base_uri": "https://localhost:8080/",
          "height": 442
        },
        "id": "risMIlsuDmLQ",
        "outputId": "86f3419e-de88-495e-eb0c-0384bd9fd3eb"
      },
      "outputs": [
        {
          "output_type": "display_data",
          "data": {
            "text/plain": [
              "<Figure size 1080x504 with 2 Axes>"
            ],
            "image/png": "[encoded data removed]"
          },
          "metadata": {
            "needs_background": "light"
          }
        }
      ],
      "source": [
        "# Analyzing Gender feature and it's effect on response feature\n",
        "fig, axes = plt.subplots(ncols=2,figsize=(20,5))\n",
        "colors = ['#4F6272', '#B7C3F3', '#DD7596', '#8EB897']\n",
        "df['Gender'].value_counts().plot.pie( autopct = '%.1f%%',ax = axes[0],explode = [0.02,0.02],colors=colors, figsize=(15,7))\n",
        "ax = sns.countplot(data = df , x = 'Response', ax = axes[1],palette = 'BuGn_r', hue = 'Gender',)"
      ]
    },
    {
      "cell_type": "markdown",
      "metadata": {
        "id": "tLeaUaAgHuU3"
      },
      "source": [
        "Male category is somewhat more noteworthy than that of female and chances of purchasing the insurance is likewise minimal high"
      ]
    },
    {
      "cell_type": "code",
      "execution_count": 15,
      "metadata": {
        "colab": {
          "base_uri": "https://localhost:8080/",
          "height": 441
        },
        "id": "F4mEvrP1HrjT",
        "outputId": "e59c6690-cbb9-4ab3-f0ef-a5e7a84b2515"
      },
      "outputs": [
        {
          "output_type": "display_data",
          "data": {
            "text/plain": [
              "<Figure size 1584x576 with 1 Axes>"
            ],
            "image/png": "[encoded data removed]"
          },
          "metadata": {
            "needs_background": "light"
          }
        }
      ],
      "source": [
        "# Analysis of age \n",
        "plt.figure(figsize=(22,8))\n",
        "sns.countplot(df['Age'],palette='RdYlBu')\n",
        "plt.title(\"AGE-DSTRIBUTION\")\n",
        "plt.show()"
      ]
    },
    {
      "cell_type": "code",
      "execution_count": 16,
      "metadata": {
        "colab": {
          "base_uri": "https://localhost:8080/",
          "height": 428
        },
        "id": "XwkWvfnSHzHo",
        "outputId": "f728d807-682d-4658-99aa-fbe152908ce3"
      },
      "outputs": [
        {
          "output_type": "display_data",
          "data": {
            "text/plain": [
              "<Figure size 1584x576 with 1 Axes>"
            ],
            "image/png": "[encoded data removed]"
          },
          "metadata": {
            "needs_background": "light"
          }
        }
      ],
      "source": [
        "# Analysis of Age & Response\n",
        "plt.figure(figsize=(22,8))\n",
        "ax = sns.countplot(data = df , x = 'Age', palette = 'BuPu', hue = 'Response',)"
      ]
    },
    {
      "cell_type": "markdown",
      "metadata": {
        "id": "v1nZL61DH1q4"
      },
      "source": [
        "*   Youngsters under 30 are not intrigued by vehicle insurance. Reasons could be absence of involvement, less awareness about insurance and they may not have costly vehicles yet.\n",
        "\n",
        "*    People of age range between 30-60 years are more likely to be interested and willing to purchase\n"
      ]
    },
    {
      "cell_type": "code",
      "execution_count": 17,
      "metadata": {
        "colab": {
          "base_uri": "https://localhost:8080/",
          "height": 350
        },
        "id": "TH8nH675HzE8",
        "outputId": "3207a350-cf09-4781-cf5c-8fc4ab129fb3"
      },
      "outputs": [
        {
          "output_type": "display_data",
          "data": {
            "text/plain": [
              "<Figure size 1800x504 with 1 Axes>"
            ],
            "image/png": "[encoded data removed]"
          },
          "metadata": {
            "needs_background": "light"
          }
        }
      ],
      "source": [
        "# Analyzing regoin feature\n",
        "plt.figure(figsize=(25,7))\n",
        "sns.countplot(df['Region_Code'],palette='RdYlBu')\n",
        "plt.title(\"REGION-DSTRIBUTION\")\n",
        "plt.show()"
      ]
    },
    {
      "cell_type": "code",
      "execution_count": 18,
      "metadata": {
        "colab": {
          "base_uri": "https://localhost:8080/",
          "height": 337
        },
        "id": "IwAGCs5hHy_k",
        "outputId": "e6aa1dda-7272-4154-8117-53ef97dd2d71"
      },
      "outputs": [
        {
          "output_type": "display_data",
          "data": {
            "text/plain": [
              "<Figure size 1440x360 with 2 Axes>"
            ],
            "image/png": "[encoded data removed]"
          },
          "metadata": {
            "needs_background": "light"
          }
        }
      ],
      "source": [
        "# Driving License effect on response feature\n",
        "fig,axes = plt.subplots(ncols=2,figsize=(20,5))\n",
        "colors = ['#4F6272','#B7C3F3']\n",
        "df['Driving_License'].value_counts().plot.pie(autopct='%.1f%%',ax= axes[0],explode=[0.02,0.02],colors=colors)\n",
        "ax = sns.countplot(data = df , x = 'Response', ax = axes[1],palette = 'BuGn_r', hue = 'Driving_License',)"
      ]
    },
    {
      "cell_type": "markdown",
      "metadata": {
        "id": "lGO9YFcHH9hA"
      },
      "source": [
        "\n",
        "\n",
        "*   We can see that if there is a license holder that it will be more likely to buy an insurance\n",
        "*   Also there is very less count of people who donot have driving license\n"
      ]
    },
    {
      "cell_type": "code",
      "execution_count": 19,
      "metadata": {
        "colab": {
          "base_uri": "https://localhost:8080/",
          "height": 442
        },
        "id": "jTDiU9KKHy8Y",
        "outputId": "dc104c74-01e3-4a21-f5a3-69780541eda2"
      },
      "outputs": [
        {
          "output_type": "display_data",
          "data": {
            "text/plain": [
              "<Figure size 1080x504 with 2 Axes>"
            ],
            "image/png": "[encoded data removed]"
          },
          "metadata": {
            "needs_background": "light"
          }
        }
      ],
      "source": [
        "# Analyzing Previously_Insured feature and it's effect on response feature\n",
        "fig, axes = plt.subplots(ncols=2,figsize=(20,5))\n",
        "colors = ['#4F6272', '#B7C3F3', '#DD7596', '#8EB897']\n",
        "df['Previously_Insured'].value_counts().plot.pie( autopct = '%.1f%%',ax = axes[0],explode = [0.02,0.02],colors=colors, figsize=(15,7))\n",
        "ax = sns.countplot(data = df , x = 'Response', ax = axes[1],palette = 'BuGn_r', hue = 'Previously_Insured',)"
      ]
    },
    {
      "cell_type": "markdown",
      "metadata": {
        "id": "_AIhgKfkIDUQ"
      },
      "source": [
        "more than 50% of people doesn't have insurance\n"
      ]
    },
    {
      "cell_type": "code",
      "execution_count": 20,
      "metadata": {
        "colab": {
          "base_uri": "https://localhost:8080/",
          "height": 442
        },
        "id": "oM5tdIt7Hy5x",
        "outputId": "094fb330-05ae-4f5d-a70a-9433f3170af8"
      },
      "outputs": [
        {
          "output_type": "display_data",
          "data": {
            "text/plain": [
              "<Figure size 1080x504 with 2 Axes>"
            ],
            "image/png": "[encoded data removed]"
          },
          "metadata": {
            "needs_background": "light"
          }
        }
      ],
      "source": [
        "# Analyzing Vehicle Age feature and it's effect on response feature\n",
        "fig, axes = plt.subplots(ncols=2,figsize=(20,5))\n",
        "colors = ['#4F6272', '#B7C3F3', '#DD7596', '#8EB897']\n",
        "df['Vehicle_Age'].value_counts().plot.pie( autopct = '%.1f%%',ax = axes[0],explode = [0.02,0.02,0.02],colors=colors, figsize=(15,7))\n",
        "ax = sns.countplot(data = df , x = 'Response', ax = axes[1],palette = 'BuGn_r', hue = 'Vehicle_Age',)"
      ]
    },
    {
      "cell_type": "markdown",
      "metadata": {
        "id": "77VSfNWhIIHm"
      },
      "source": [
        "\n",
        "\n",
        "*   consumers with 1-2-year-old vehicles are more interested as compared to others\n",
        "*  consumers with less than 1 year old vehicles have less chance of buying insurance\n"
      ]
    },
    {
      "cell_type": "code",
      "execution_count": 21,
      "metadata": {
        "colab": {
          "base_uri": "https://localhost:8080/",
          "height": 442
        },
        "id": "YWngRX56IJRr",
        "outputId": "e83a532b-90dc-4cef-b93e-6ea97d08e3d3"
      },
      "outputs": [
        {
          "output_type": "display_data",
          "data": {
            "text/plain": [
              "<Figure size 1080x504 with 2 Axes>"
            ],
            "image/png": "[encoded data removed]"
          },
          "metadata": {
            "needs_background": "light"
          }
        }
      ],
      "source": [
        "# Analyzing Vehicle_Damage feature and it's effect on response feature\n",
        "fig, axes = plt.subplots(ncols=2,figsize=(20,5))\n",
        "colors = ['#4F6272', '#B7C3F3', '#DD7596', '#8EB897']\n",
        "df['Vehicle_Damage'].value_counts().plot.pie( autopct = '%.1f%%',ax = axes[0],explode = [0.02,0.02],colors=colors, figsize=(15,7))\n",
        "ax = sns.countplot(data = df , x = 'Response', ax = axes[1],palette = 'BuGn_r', hue = 'Vehicle_Damage',)"
      ]
    },
    {
      "cell_type": "markdown",
      "metadata": {
        "id": "H1M4poO_I361"
      },
      "source": [
        "Half of all health insurance customers have had their car destroyed, while the other half have not"
      ]
    },
    {
      "cell_type": "markdown",
      "metadata": {
        "id": "oeZqWn9SKImb"
      },
      "source": [
        "# **Multivariate Analysis**"
      ]
    },
    {
      "cell_type": "code",
      "execution_count": 22,
      "metadata": {
        "colab": {
          "base_uri": "https://localhost:8080/",
          "height": 638
        },
        "id": "lvvaGJaNI5GS",
        "outputId": "32b8cc8d-5798-45fd-a6d5-ef06a964e885"
      },
      "outputs": [
        {
          "output_type": "display_data",
          "data": {
            "text/plain": [
              "<Figure size 1296x648 with 2 Axes>"
            ],
            "image/png": "[encoded data removed]"
          },
          "metadata": {
            "needs_background": "light"
          }
        }
      ],
      "source": [
        "# plot heatmap to find correlation \n",
        "plt.figure(figsize=(18,9))\n",
        "ax= sns.heatmap(df.corr(),annot=True)"
      ]
    },
    {
      "cell_type": "markdown",
      "metadata": {
        "id": "oY1aS1Z865Ij"
      },
      "source": [
        "There is no strong correlation among features as we can see from the above heatmap"
      ]
    },
    {
      "cell_type": "markdown",
      "metadata": {
        "id": "btOJfWF_69Jq"
      },
      "source": [
        "# **Cheking for Outliers**"
      ]
    },
    {
      "cell_type": "code",
      "execution_count": 23,
      "metadata": {
        "colab": {
          "base_uri": "https://localhost:8080/",
          "height": 1000
        },
        "id": "3T_Sqs2-I5X0",
        "outputId": "ae249cf0-e476-4130-e5d8-0b46c25b63d2"
      },
      "outputs": [
        {
          "output_type": "display_data",
          "data": {
            "text/plain": [
              "<Figure size 504x144 with 1 Axes>"
            ],
            "image/png": "[encoded data removed]"
          },
          "metadata": {
            "needs_background": "light"
          }
        },
        {
          "output_type": "display_data",
          "data": {
            "text/plain": [
              "<Figure size 504x144 with 1 Axes>"
            ],
            "image/png": "[encoded data removed]"
          },
          "metadata": {
            "needs_background": "light"
          }
        },
        {
          "output_type": "display_data",
          "data": {
            "text/plain": [
              "<Figure size 504x144 with 1 Axes>"
            ],
            "image/png": "[encoded data removed]"
          },
          "metadata": {
            "needs_background": "light"
          }
        },
        {
          "output_type": "display_data",
          "data": {
            "text/plain": [
              "<Figure size 504x144 with 1 Axes>"
            ],
            "image/png": "[encoded data removed]"
          },
          "metadata": {
            "needs_background": "light"
          }
        },
        {
          "output_type": "display_data",
          "data": {
            "text/plain": [
              "<Figure size 504x144 with 1 Axes>"
            ],
            "image/png": "[encoded data removed]"
          },
          "metadata": {
            "needs_background": "light"
          }
        },
        {
          "output_type": "display_data",
          "data": {
            "text/plain": [
              "<Figure size 504x144 with 1 Axes>"
            ],
            "image/png": "[encoded data removed]"
          },
          "metadata": {
            "needs_background": "light"
          }
        },
        {
          "output_type": "display_data",
          "data": {
            "text/plain": [
              "<Figure size 504x144 with 1 Axes>"
            ],
            "image/png": "[encoded data removed]"
          },
          "metadata": {
            "needs_background": "light"
          }
        },
        {
          "output_type": "display_data",
          "data": {
            "text/plain": [
              "<Figure size 504x144 with 1 Axes>"
            ],
            "image/png": "[encoded data removed]"
          },
          "metadata": {
            "needs_background": "light"
          }
        },
        {
          "output_type": "display_data",
          "data": {
            "text/plain": [
              "<Figure size 504x144 with 1 Axes>"
            ],
            "image/png": "[encoded data removed]"
          },
          "metadata": {
            "needs_background": "light"
          }
        }
      ],
      "source": [
        "# chaking outliers \n",
        "int_df = df[list(df.describe())]\n",
        "for column in int_df:\n",
        "  plt.figure(figsize=(7,2))\n",
        "  sns.boxplot(data=int_df,x=column)"
      ]
    },
    {
      "cell_type": "markdown",
      "metadata": {
        "id": "cSZIhgGj7E7q"
      },
      "source": [
        "Annual premiume feature contains outliers so we tranfrom annual premium to normal distribution"
      ]
    },
    {
      "cell_type": "code",
      "execution_count": 24,
      "metadata": {
        "id": "wpAJMHo27I-M"
      },
      "outputs": [],
      "source": [
        "features=df[['Annual_Premium']]"
      ]
    },
    {
      "cell_type": "code",
      "execution_count": 25,
      "metadata": {
        "colab": {
          "base_uri": "https://localhost:8080/"
        },
        "id": "DQmFrG7o7LxP",
        "outputId": "cb7b6360-4ea0-446d-a43e-061d9e4127de"
      },
      "outputs": [
        {
          "output_type": "stream",
          "name": "stdout",
          "text": [
            "[0.76692882]\n"
          ]
        },
        {
          "output_type": "execute_result",
          "data": {
            "text/plain": [
              "0         0.612207\n",
              "1         0.243028\n",
              "2         0.498644\n",
              "3        -0.030214\n",
              "4        -0.094107\n",
              "            ...   \n",
              "381104    0.057079\n",
              "381105    0.589296\n",
              "381106    0.328903\n",
              "381107    0.827191\n",
              "381108    0.681065\n",
              "Name: Annual_Premium, Length: 381109, dtype: float64"
            ]
          },
          "metadata": {},
          "execution_count": 25
        }
      ],
      "source": [
        "#instatiate \n",
        "from sklearn.preprocessing import PowerTransformer\n",
        "\n",
        "pt = PowerTransformer(method='yeo-johnson', standardize=True,) \n",
        "\n",
        "skl_yeojohnson = pt.fit(features)\n",
        "\n",
        "print (skl_yeojohnson.lambdas_)\n",
        "\n",
        "calc_lambdas = skl_yeojohnson.lambdas_ \n",
        "skl_yeojohnson = pt.transform(features) \n",
        "df['Annual_Premium'] = pd.DataFrame(data=skl_yeojohnson, columns=['Annual_Premium'])\n",
        "\n",
        "df['Annual_Premium']"
      ]
    },
    {
      "cell_type": "code",
      "execution_count": 26,
      "metadata": {
        "colab": {
          "base_uri": "https://localhost:8080/",
          "height": 391
        },
        "id": "dirhRB3F7Oq9",
        "outputId": "cc2c280c-09e1-40b3-e3f0-3b9ff8af1fe9"
      },
      "outputs": [
        {
          "output_type": "execute_result",
          "data": {
            "text/plain": [
              "<matplotlib.axes._subplots.AxesSubplot at 0x7fa1f1149910>"
            ]
          },
          "metadata": {},
          "execution_count": 26
        },
        {
          "output_type": "display_data",
          "data": {
            "text/plain": [
              "<Figure size 720x432 with 1 Axes>"
            ],
            "image/png": "[encoded data removed]"
          },
          "metadata": {
            "needs_background": "light"
          }
        }
      ],
      "source": [
        "fig=plt.subplots(figsize= (10,6))\n",
        "sns.distplot(x=df['Annual_Premium'], color='g')"
      ]
    },
    {
      "cell_type": "markdown",
      "metadata": {
        "id": "TWhFc7HN7SWe"
      },
      "source": [
        "we will drop id columns as it has not attribute"
      ]
    },
    {
      "cell_type": "code",
      "execution_count": 27,
      "metadata": {
        "id": "H7tZvEv87S6g"
      },
      "outputs": [],
      "source": [
        "df.drop('id',axis=1,inplace=True)"
      ]
    },
    {
      "cell_type": "code",
      "execution_count": 28,
      "metadata": {
        "colab": {
          "base_uri": "https://localhost:8080/"
        },
        "id": "A5756DF97YyY",
        "outputId": "8fc10902-c2ca-4220-fefc-4a71821fc449"
      },
      "outputs": [
        {
          "output_type": "execute_result",
          "data": {
            "text/plain": [
              "(381109, 11)"
            ]
          },
          "metadata": {},
          "execution_count": 28
        }
      ],
      "source": [
        "df.shape"
      ]
    },
    {
      "cell_type": "code",
      "execution_count": 29,
      "metadata": {
        "id": "dr2NcA7X7Yr2"
      },
      "outputs": [],
      "source": [
        "# encoding numarical column to categorcial\n",
        "le = LabelEncoder()\n",
        "ohe = OneHotEncoder()\n",
        " \n",
        "df[\"Vehicle_Age\"]=df[\"Vehicle_Age\"].map({\"> 2 Years\":2,\"1-2 Year\":1,\"< 1 Year\":0})\n",
        "\n",
        "df['Gender']=ohe.fit_transform(df[[\"Gender\"]]).toarray()\n",
        "df['Vehicle_Age'] =le.fit_transform(df[['Vehicle_Age']])\n",
        "df['Vehicle_Damage'] = le.fit_transform(df[['Vehicle_Damage']])"
      ]
    },
    {
      "cell_type": "code",
      "execution_count": 30,
      "metadata": {
        "colab": {
          "base_uri": "https://localhost:8080/",
          "height": 270
        },
        "id": "KPkjKzqs7dVk",
        "outputId": "f6523b79-5383-464e-8c48-4f5a8dc29a1e"
      },
      "outputs": [
        {
          "output_type": "execute_result",
          "data": {
            "text/plain": [
              "   Gender  Age  Driving_License  Region_Code  Previously_Insured  Vehicle_Age  \\\n",
              "0     0.0   44                1         28.0                   0            2   \n",
              "1     0.0   76                1          3.0                   0            1   \n",
              "2     0.0   47                1         28.0                   0            2   \n",
              "3     0.0   21                1         11.0                   1            0   \n",
              "4     1.0   29                1         41.0                   1            0   \n",
              "\n",
              "   Vehicle_Damage  Annual_Premium  Policy_Sales_Channel  Vintage  Response  \n",
              "0               1        0.612207                  26.0      217         1  \n",
              "1               0        0.243028                  26.0      183         0  \n",
              "2               1        0.498644                  26.0       27         1  \n",
              "3               0       -0.030214                 152.0      203         0  \n",
              "4               0       -0.094107                 152.0       39         0  "
            ],
            "text/html": [
              "\n",
              "  <div id=\"df-77660503-93e0-4efe-99d3-ae16ddd865f3\">\n",
              "    <div class=\"colab-df-container\">\n",
              "      <div>\n",
              "<style scoped>\n",
              "    .dataframe tbody tr th:only-of-type {\n",
              "        vertical-align: middle;\n",
              "    }\n",
              "\n",
              "    .dataframe tbody tr th {\n",
              "        vertical-align: top;\n",
              "    }\n",
              "\n",
              "    .dataframe thead th {\n",
              "        text-align: right;\n",
              "    }\n",
              "</style>\n",
              "<table border=\"1\" class=\"dataframe\">\n",
              "  <thead>\n",
              "    <tr style=\"text-align: right;\">\n",
              "      <th></th>\n",
              "      <th>Gender</th>\n",
              "      <th>Age</th>\n",
              "      <th>Driving_License</th>\n",
              "      <th>Region_Code</th>\n",
              "      <th>Previously_Insured</th>\n",
              "      <th>Vehicle_Age</th>\n",
              "      <th>Vehicle_Damage</th>\n",
              "      <th>Annual_Premium</th>\n",
              "      <th>Policy_Sales_Channel</th>\n",
              "      <th>Vintage</th>\n",
              "      <th>Response</th>\n",
              "    </tr>\n",
              "  </thead>\n",
              "  <tbody>\n",
              "    <tr>\n",
              "      <th>0</th>\n",
              "      <td>0.0</td>\n",
              "      <td>44</td>\n",
              "      <td>1</td>\n",
              "      <td>28.0</td>\n",
              "      <td>0</td>\n",
              "      <td>2</td>\n",
              "      <td>1</td>\n",
              "      <td>0.612207</td>\n",
              "      <td>26.0</td>\n",
              "      <td>217</td>\n",
              "      <td>1</td>\n",
              "    </tr>\n",
              "    <tr>\n",
              "      <th>1</th>\n",
              "      <td>0.0</td>\n",
              "      <td>76</td>\n",
              "      <td>1</td>\n",
              "      <td>3.0</td>\n",
              "      <td>0</td>\n",
              "      <td>1</td>\n",
              "      <td>0</td>\n",
              "      <td>0.243028</td>\n",
              "      <td>26.0</td>\n",
              "      <td>183</td>\n",
              "      <td>0</td>\n",
              "    </tr>\n",
              "    <tr>\n",
              "      <th>2</th>\n",
              "      <td>0.0</td>\n",
              "      <td>47</td>\n",
              "      <td>1</td>\n",
              "      <td>28.0</td>\n",
              "      <td>0</td>\n",
              "      <td>2</td>\n",
              "      <td>1</td>\n",
              "      <td>0.498644</td>\n",
              "      <td>26.0</td>\n",
              "      <td>27</td>\n",
              "      <td>1</td>\n",
              "    </tr>\n",
              "    <tr>\n",
              "      <th>3</th>\n",
              "      <td>0.0</td>\n",
              "      <td>21</td>\n",
              "      <td>1</td>\n",
              "      <td>11.0</td>\n",
              "      <td>1</td>\n",
              "      <td>0</td>\n",
              "      <td>0</td>\n",
              "      <td>-0.030214</td>\n",
              "      <td>152.0</td>\n",
              "      <td>203</td>\n",
              "      <td>0</td>\n",
              "    </tr>\n",
              "    <tr>\n",
              "      <th>4</th>\n",
              "      <td>1.0</td>\n",
              "      <td>29</td>\n",
              "      <td>1</td>\n",
              "      <td>41.0</td>\n",
              "      <td>1</td>\n",
              "      <td>0</td>\n",
              "      <td>0</td>\n",
              "      <td>-0.094107</td>\n",
              "      <td>152.0</td>\n",
              "      <td>39</td>\n",
              "      <td>0</td>\n",
              "    </tr>\n",
              "  </tbody>\n",
              "</table>\n",
              "</div>\n",
              "      <button class=\"colab-df-convert\" onclick=\"convertToInteractive('df-77660503-93e0-4efe-99d3-ae16ddd865f3')\"\n",
              "              title=\"Convert this dataframe to an interactive table.\"\n",
              "              style=\"display:none;\">\n",
              "        \n",
              "  <svg xmlns=\"http://www.w3.org/2000/svg\" height=\"24px\"viewBox=\"0 0 24 24\"\n",
              "       width=\"24px\">\n",
              "    <path d=\"M0 0h24v24H0V0z\" fill=\"none\"/>\n",
              "    <path d=\"M18.56 5.44l.94 2.06.94-2.06 2.06-.94-2.06-.94-.94-2.06-.94 2.06-2.06.94zm-11 1L8.5 8.5l.94-2.06 2.06-.94-2.06-.94L8.5 2.5l-.94 2.06-2.06.94zm10 10l.94 2.06.94-2.06 2.06-.94-2.06-.94-.94-2.06-.94 2.06-2.06.94z\"/><path d=\"M17.41 7.96l-1.37-1.37c-.4-.4-.92-.59-1.43-.59-.52 0-1.04.2-1.43.59L10.3 9.45l-7.72 7.72c-.78.78-.78 2.05 0 2.83L4 21.41c.39.39.9.59 1.41.59.51 0 1.02-.2 1.41-.59l7.78-7.78 2.81-2.81c.8-.78.8-2.07 0-2.86zM5.41 20L4 18.59l7.72-7.72 1.47 1.35L5.41 20z\"/>\n",
              "  </svg>\n",
              "      </button>\n",
              "      \n",
              "  <style>\n",
              "    .colab-df-container {\n",
              "      display:flex;\n",
              "      flex-wrap:wrap;\n",
              "      gap: 12px;\n",
              "    }\n",
              "\n",
              "    .colab-df-convert {\n",
              "      background-color: #E8F0FE;\n",
              "      border: none;\n",
              "      border-radius: 50%;\n",
              "      cursor: pointer;\n",
              "      display: none;\n",
              "      fill: #1967D2;\n",
              "      height: 32px;\n",
              "      padding: 0 0 0 0;\n",
              "      width: 32px;\n",
              "    }\n",
              "\n",
              "    .colab-df-convert:hover {\n",
              "      background-color: #E2EBFA;\n",
              "      box-shadow: 0px 1px 2px rgba(60, 64, 67, 0.3), 0px 1px 3px 1px rgba(60, 64, 67, 0.15);\n",
              "      fill: #174EA6;\n",
              "    }\n",
              "\n",
              "    [theme=dark] .colab-df-convert {\n",
              "      background-color: #3B4455;\n",
              "      fill: #D2E3FC;\n",
              "    }\n",
              "\n",
              "    [theme=dark] .colab-df-convert:hover {\n",
              "      background-color: #434B5C;\n",
              "      box-shadow: 0px 1px 3px 1px rgba(0, 0, 0, 0.15);\n",
              "      filter: drop-shadow(0px 1px 2px rgba(0, 0, 0, 0.3));\n",
              "      fill: #FFFFFF;\n",
              "    }\n",
              "  </style>\n",
              "\n",
              "      <script>\n",
              "        const buttonEl =\n",
              "          document.querySelector('#df-77660503-93e0-4efe-99d3-ae16ddd865f3 button.colab-df-convert');\n",
              "        buttonEl.style.display =\n",
              "          google.colab.kernel.accessAllowed ? 'block' : 'none';\n",
              "\n",
              "        async function convertToInteractive(key) {\n",
              "          const element = document.querySelector('#df-77660503-93e0-4efe-99d3-ae16ddd865f3');\n",
              "          const dataTable =\n",
              "            await google.colab.kernel.invokeFunction('convertToInteractive',\n",
              "                                                     [key], {});\n",
              "          if (!dataTable) return;\n",
              "\n",
              "          const docLinkHtml = 'Like what you see? Visit the ' +\n",
              "            '<a target=\"_blank\" href=https://colab.research.google.com/notebooks/data_table.ipynb>data table notebook</a>'\n",
              "            + ' to learn more about interactive tables.';\n",
              "          element.innerHTML = '';\n",
              "          dataTable['output_type'] = 'display_data';\n",
              "          await google.colab.output.renderOutput(dataTable, element);\n",
              "          const docLink = document.createElement('div');\n",
              "          docLink.innerHTML = docLinkHtml;\n",
              "          element.appendChild(docLink);\n",
              "        }\n",
              "      </script>\n",
              "    </div>\n",
              "  </div>\n",
              "  "
            ]
          },
          "metadata": {},
          "execution_count": 30
        }
      ],
      "source": [
        "df.head()"
      ]
    },
    {
      "cell_type": "code",
      "execution_count": 31,
      "metadata": {
        "colab": {
          "base_uri": "https://localhost:8080/"
        },
        "id": "F1hHo-n97f0Z",
        "outputId": "dcd84a76-ef7d-4969-e2e9-268a5927808b"
      },
      "outputs": [
        {
          "output_type": "stream",
          "name": "stdout",
          "text": [
            "<class 'pandas.core.frame.DataFrame'>\n",
            "RangeIndex: 381109 entries, 0 to 381108\n",
            "Data columns (total 11 columns):\n",
            " #   Column                Non-Null Count   Dtype  \n",
            "---  ------                --------------   -----  \n",
            " 0   Gender                381109 non-null  float64\n",
            " 1   Age                   381109 non-null  int64  \n",
            " 2   Driving_License       381109 non-null  int64  \n",
            " 3   Region_Code           381109 non-null  float64\n",
            " 4   Previously_Insured    381109 non-null  int64  \n",
            " 5   Vehicle_Age           381109 non-null  int64  \n",
            " 6   Vehicle_Damage        381109 non-null  int64  \n",
            " 7   Annual_Premium        381109 non-null  float64\n",
            " 8   Policy_Sales_Channel  381109 non-null  float64\n",
            " 9   Vintage               381109 non-null  int64  \n",
            " 10  Response              381109 non-null  int64  \n",
            "dtypes: float64(4), int64(7)\n",
            "memory usage: 32.0 MB\n"
          ]
        }
      ],
      "source": [
        "df.info()"
      ]
    },
    {
      "cell_type": "markdown",
      "metadata": {
        "id": "cT9M4QYe7mjX"
      },
      "source": [
        "# **Feature Selection**"
      ]
    },
    {
      "cell_type": "code",
      "execution_count": 32,
      "metadata": {
        "id": "fajPDvxU7fu8"
      },
      "outputs": [],
      "source": [
        "# Importing iportant libraries\n",
        "from statsmodels.stats.outliers_influence import variance_inflation_factor\n",
        "# Function to Calculate VIF\n",
        "def calc_vif(X):\n",
        "\n",
        "    # Calculating VIF\n",
        "    vif = pd.DataFrame()\n",
        "    vif[\"variables\"] = X.columns\n",
        "    vif[\"VIF\"] = [variance_inflation_factor(X.values, i) for i in range(X.shape[1])]\n",
        "\n",
        "    return(vif)"
      ]
    },
    {
      "cell_type": "code",
      "execution_count": 33,
      "metadata": {
        "colab": {
          "base_uri": "https://localhost:8080/",
          "height": 363
        },
        "id": "nQ1YAB2e7fsI",
        "outputId": "12004778-527c-4dc5-871b-9e1b1d1dfd8b"
      },
      "outputs": [
        {
          "output_type": "execute_result",
          "data": {
            "text/plain": [
              "              variables        VIF\n",
              "0                Gender   1.900420\n",
              "1                   Age  18.381724\n",
              "2       Driving_License  40.268862\n",
              "3           Region_Code   4.957160\n",
              "4    Previously_Insured   5.724299\n",
              "5           Vehicle_Age   6.034246\n",
              "6        Vehicle_Damage   6.351624\n",
              "7        Annual_Premium   1.014392\n",
              "8  Policy_Sales_Channel   8.107759\n",
              "9               Vintage   4.373705"
            ],
            "text/html": [
              "\n",
              "  <div id=\"df-69e1dd33-f167-4aea-a460-72b5b466f92b\">\n",
              "    <div class=\"colab-df-container\">\n",
              "      <div>\n",
              "<style scoped>\n",
              "    .dataframe tbody tr th:only-of-type {\n",
              "        vertical-align: middle;\n",
              "    }\n",
              "\n",
              "    .dataframe tbody tr th {\n",
              "        vertical-align: top;\n",
              "    }\n",
              "\n",
              "    .dataframe thead th {\n",
              "        text-align: right;\n",
              "    }\n",
              "</style>\n",
              "<table border=\"1\" class=\"dataframe\">\n",
              "  <thead>\n",
              "    <tr style=\"text-align: right;\">\n",
              "      <th></th>\n",
              "      <th>variables</th>\n",
              "      <th>VIF</th>\n",
              "    </tr>\n",
              "  </thead>\n",
              "  <tbody>\n",
              "    <tr>\n",
              "      <th>0</th>\n",
              "      <td>Gender</td>\n",
              "      <td>1.900420</td>\n",
              "    </tr>\n",
              "    <tr>\n",
              "      <th>1</th>\n",
              "      <td>Age</td>\n",
              "      <td>18.381724</td>\n",
              "    </tr>\n",
              "    <tr>\n",
              "      <th>2</th>\n",
              "      <td>Driving_License</td>\n",
              "      <td>40.268862</td>\n",
              "    </tr>\n",
              "    <tr>\n",
              "      <th>3</th>\n",
              "      <td>Region_Code</td>\n",
              "      <td>4.957160</td>\n",
              "    </tr>\n",
              "    <tr>\n",
              "      <th>4</th>\n",
              "      <td>Previously_Insured</td>\n",
              "      <td>5.724299</td>\n",
              "    </tr>\n",
              "    <tr>\n",
              "      <th>5</th>\n",
              "      <td>Vehicle_Age</td>\n",
              "      <td>6.034246</td>\n",
              "    </tr>\n",
              "    <tr>\n",
              "      <th>6</th>\n",
              "      <td>Vehicle_Damage</td>\n",
              "      <td>6.351624</td>\n",
              "    </tr>\n",
              "    <tr>\n",
              "      <th>7</th>\n",
              "      <td>Annual_Premium</td>\n",
              "      <td>1.014392</td>\n",
              "    </tr>\n",
              "    <tr>\n",
              "      <th>8</th>\n",
              "      <td>Policy_Sales_Channel</td>\n",
              "      <td>8.107759</td>\n",
              "    </tr>\n",
              "    <tr>\n",
              "      <th>9</th>\n",
              "      <td>Vintage</td>\n",
              "      <td>4.373705</td>\n",
              "    </tr>\n",
              "  </tbody>\n",
              "</table>\n",
              "</div>\n",
              "      <button class=\"colab-df-convert\" onclick=\"convertToInteractive('df-69e1dd33-f167-4aea-a460-72b5b466f92b')\"\n",
              "              title=\"Convert this dataframe to an interactive table.\"\n",
              "              style=\"display:none;\">\n",
              "        \n",
              "  <svg xmlns=\"http://www.w3.org/2000/svg\" height=\"24px\"viewBox=\"0 0 24 24\"\n",
              "       width=\"24px\">\n",
              "    <path d=\"M0 0h24v24H0V0z\" fill=\"none\"/>\n",
              "    <path d=\"M18.56 5.44l.94 2.06.94-2.06 2.06-.94-2.06-.94-.94-2.06-.94 2.06-2.06.94zm-11 1L8.5 8.5l.94-2.06 2.06-.94-2.06-.94L8.5 2.5l-.94 2.06-2.06.94zm10 10l.94 2.06.94-2.06 2.06-.94-2.06-.94-.94-2.06-.94 2.06-2.06.94z\"/><path d=\"M17.41 7.96l-1.37-1.37c-.4-.4-.92-.59-1.43-.59-.52 0-1.04.2-1.43.59L10.3 9.45l-7.72 7.72c-.78.78-.78 2.05 0 2.83L4 21.41c.39.39.9.59 1.41.59.51 0 1.02-.2 1.41-.59l7.78-7.78 2.81-2.81c.8-.78.8-2.07 0-2.86zM5.41 20L4 18.59l7.72-7.72 1.47 1.35L5.41 20z\"/>\n",
              "  </svg>\n",
              "      </button>\n",
              "      \n",
              "  <style>\n",
              "    .colab-df-container {\n",
              "      display:flex;\n",
              "      flex-wrap:wrap;\n",
              "      gap: 12px;\n",
              "    }\n",
              "\n",
              "    .colab-df-convert {\n",
              "      background-color: #E8F0FE;\n",
              "      border: none;\n",
              "      border-radius: 50%;\n",
              "      cursor: pointer;\n",
              "      display: none;\n",
              "      fill: #1967D2;\n",
              "      height: 32px;\n",
              "      padding: 0 0 0 0;\n",
              "      width: 32px;\n",
              "    }\n",
              "\n",
              "    .colab-df-convert:hover {\n",
              "      background-color: #E2EBFA;\n",
              "      box-shadow: 0px 1px 2px rgba(60, 64, 67, 0.3), 0px 1px 3px 1px rgba(60, 64, 67, 0.15);\n",
              "      fill: #174EA6;\n",
              "    }\n",
              "\n",
              "    [theme=dark] .colab-df-convert {\n",
              "      background-color: #3B4455;\n",
              "      fill: #D2E3FC;\n",
              "    }\n",
              "\n",
              "    [theme=dark] .colab-df-convert:hover {\n",
              "      background-color: #434B5C;\n",
              "      box-shadow: 0px 1px 3px 1px rgba(0, 0, 0, 0.15);\n",
              "      filter: drop-shadow(0px 1px 2px rgba(0, 0, 0, 0.3));\n",
              "      fill: #FFFFFF;\n",
              "    }\n",
              "  </style>\n",
              "\n",
              "      <script>\n",
              "        const buttonEl =\n",
              "          document.querySelector('#df-69e1dd33-f167-4aea-a460-72b5b466f92b button.colab-df-convert');\n",
              "        buttonEl.style.display =\n",
              "          google.colab.kernel.accessAllowed ? 'block' : 'none';\n",
              "\n",
              "        async function convertToInteractive(key) {\n",
              "          const element = document.querySelector('#df-69e1dd33-f167-4aea-a460-72b5b466f92b');\n",
              "          const dataTable =\n",
              "            await google.colab.kernel.invokeFunction('convertToInteractive',\n",
              "                                                     [key], {});\n",
              "          if (!dataTable) return;\n",
              "\n",
              "          const docLinkHtml = 'Like what you see? Visit the ' +\n",
              "            '<a target=\"_blank\" href=https://colab.research.google.com/notebooks/data_table.ipynb>data table notebook</a>'\n",
              "            + ' to learn more about interactive tables.';\n",
              "          element.innerHTML = '';\n",
              "          dataTable['output_type'] = 'display_data';\n",
              "          await google.colab.output.renderOutput(dataTable, element);\n",
              "          const docLink = document.createElement('div');\n",
              "          docLink.innerHTML = docLinkHtml;\n",
              "          element.appendChild(docLink);\n",
              "        }\n",
              "      </script>\n",
              "    </div>\n",
              "  </div>\n",
              "  "
            ]
          },
          "metadata": {},
          "execution_count": 33
        }
      ],
      "source": [
        "calc_vif(df[[i for i in df.describe().columns if i not in ['Response']]])"
      ]
    },
    {
      "cell_type": "code",
      "execution_count": 34,
      "metadata": {
        "id": "AkxJc3b37uDF"
      },
      "outputs": [],
      "source": [
        "# drop driving licen variable\n",
        "df=df.drop(['Driving_License'],axis=1)"
      ]
    },
    {
      "cell_type": "code",
      "execution_count": 35,
      "metadata": {
        "colab": {
          "base_uri": "https://localhost:8080/",
          "height": 332
        },
        "id": "KDHPJTG47uAb",
        "outputId": "bb2a427a-b01c-40e0-df6f-0f5fdc5f7fda"
      },
      "outputs": [
        {
          "output_type": "execute_result",
          "data": {
            "text/plain": [
              "              variables        VIF\n",
              "0                Gender   1.847842\n",
              "1                   Age  13.471196\n",
              "2           Region_Code   4.558850\n",
              "3    Previously_Insured   4.620188\n",
              "4           Vehicle_Age   6.023186\n",
              "5        Vehicle_Damage   5.186692\n",
              "6        Annual_Premium   1.013756\n",
              "7  Policy_Sales_Channel   5.217964\n",
              "8               Vintage   4.066432"
            ],
            "text/html": [
              "\n",
              "  <div id=\"df-3f4ce0b2-7503-40b7-a96a-129b46993d27\">\n",
              "    <div class=\"colab-df-container\">\n",
              "      <div>\n",
              "<style scoped>\n",
              "    .dataframe tbody tr th:only-of-type {\n",
              "        vertical-align: middle;\n",
              "    }\n",
              "\n",
              "    .dataframe tbody tr th {\n",
              "        vertical-align: top;\n",
              "    }\n",
              "\n",
              "    .dataframe thead th {\n",
              "        text-align: right;\n",
              "    }\n",
              "</style>\n",
              "<table border=\"1\" class=\"dataframe\">\n",
              "  <thead>\n",
              "    <tr style=\"text-align: right;\">\n",
              "      <th></th>\n",
              "      <th>variables</th>\n",
              "      <th>VIF</th>\n",
              "    </tr>\n",
              "  </thead>\n",
              "  <tbody>\n",
              "    <tr>\n",
              "      <th>0</th>\n",
              "      <td>Gender</td>\n",
              "      <td>1.847842</td>\n",
              "    </tr>\n",
              "    <tr>\n",
              "      <th>1</th>\n",
              "      <td>Age</td>\n",
              "      <td>13.471196</td>\n",
              "    </tr>\n",
              "    <tr>\n",
              "      <th>2</th>\n",
              "      <td>Region_Code</td>\n",
              "      <td>4.558850</td>\n",
              "    </tr>\n",
              "    <tr>\n",
              "      <th>3</th>\n",
              "      <td>Previously_Insured</td>\n",
              "      <td>4.620188</td>\n",
              "    </tr>\n",
              "    <tr>\n",
              "      <th>4</th>\n",
              "      <td>Vehicle_Age</td>\n",
              "      <td>6.023186</td>\n",
              "    </tr>\n",
              "    <tr>\n",
              "      <th>5</th>\n",
              "      <td>Vehicle_Damage</td>\n",
              "      <td>5.186692</td>\n",
              "    </tr>\n",
              "    <tr>\n",
              "      <th>6</th>\n",
              "      <td>Annual_Premium</td>\n",
              "      <td>1.013756</td>\n",
              "    </tr>\n",
              "    <tr>\n",
              "      <th>7</th>\n",
              "      <td>Policy_Sales_Channel</td>\n",
              "      <td>5.217964</td>\n",
              "    </tr>\n",
              "    <tr>\n",
              "      <th>8</th>\n",
              "      <td>Vintage</td>\n",
              "      <td>4.066432</td>\n",
              "    </tr>\n",
              "  </tbody>\n",
              "</table>\n",
              "</div>\n",
              "      <button class=\"colab-df-convert\" onclick=\"convertToInteractive('df-3f4ce0b2-7503-40b7-a96a-129b46993d27')\"\n",
              "              title=\"Convert this dataframe to an interactive table.\"\n",
              "              style=\"display:none;\">\n",
              "        \n",
              "  <svg xmlns=\"http://www.w3.org/2000/svg\" height=\"24px\"viewBox=\"0 0 24 24\"\n",
              "       width=\"24px\">\n",
              "    <path d=\"M0 0h24v24H0V0z\" fill=\"none\"/>\n",
              "    <path d=\"M18.56 5.44l.94 2.06.94-2.06 2.06-.94-2.06-.94-.94-2.06-.94 2.06-2.06.94zm-11 1L8.5 8.5l.94-2.06 2.06-.94-2.06-.94L8.5 2.5l-.94 2.06-2.06.94zm10 10l.94 2.06.94-2.06 2.06-.94-2.06-.94-.94-2.06-.94 2.06-2.06.94z\"/><path d=\"M17.41 7.96l-1.37-1.37c-.4-.4-.92-.59-1.43-.59-.52 0-1.04.2-1.43.59L10.3 9.45l-7.72 7.72c-.78.78-.78 2.05 0 2.83L4 21.41c.39.39.9.59 1.41.59.51 0 1.02-.2 1.41-.59l7.78-7.78 2.81-2.81c.8-.78.8-2.07 0-2.86zM5.41 20L4 18.59l7.72-7.72 1.47 1.35L5.41 20z\"/>\n",
              "  </svg>\n",
              "      </button>\n",
              "      \n",
              "  <style>\n",
              "    .colab-df-container {\n",
              "      display:flex;\n",
              "      flex-wrap:wrap;\n",
              "      gap: 12px;\n",
              "    }\n",
              "\n",
              "    .colab-df-convert {\n",
              "      background-color: #E8F0FE;\n",
              "      border: none;\n",
              "      border-radius: 50%;\n",
              "      cursor: pointer;\n",
              "      display: none;\n",
              "      fill: #1967D2;\n",
              "      height: 32px;\n",
              "      padding: 0 0 0 0;\n",
              "      width: 32px;\n",
              "    }\n",
              "\n",
              "    .colab-df-convert:hover {\n",
              "      background-color: #E2EBFA;\n",
              "      box-shadow: 0px 1px 2px rgba(60, 64, 67, 0.3), 0px 1px 3px 1px rgba(60, 64, 67, 0.15);\n",
              "      fill: #174EA6;\n",
              "    }\n",
              "\n",
              "    [theme=dark] .colab-df-convert {\n",
              "      background-color: #3B4455;\n",
              "      fill: #D2E3FC;\n",
              "    }\n",
              "\n",
              "    [theme=dark] .colab-df-convert:hover {\n",
              "      background-color: #434B5C;\n",
              "      box-shadow: 0px 1px 3px 1px rgba(0, 0, 0, 0.15);\n",
              "      filter: drop-shadow(0px 1px 2px rgba(0, 0, 0, 0.3));\n",
              "      fill: #FFFFFF;\n",
              "    }\n",
              "  </style>\n",
              "\n",
              "      <script>\n",
              "        const buttonEl =\n",
              "          document.querySelector('#df-3f4ce0b2-7503-40b7-a96a-129b46993d27 button.colab-df-convert');\n",
              "        buttonEl.style.display =\n",
              "          google.colab.kernel.accessAllowed ? 'block' : 'none';\n",
              "\n",
              "        async function convertToInteractive(key) {\n",
              "          const element = document.querySelector('#df-3f4ce0b2-7503-40b7-a96a-129b46993d27');\n",
              "          const dataTable =\n",
              "            await google.colab.kernel.invokeFunction('convertToInteractive',\n",
              "                                                     [key], {});\n",
              "          if (!dataTable) return;\n",
              "\n",
              "          const docLinkHtml = 'Like what you see? Visit the ' +\n",
              "            '<a target=\"_blank\" href=https://colab.research.google.com/notebooks/data_table.ipynb>data table notebook</a>'\n",
              "            + ' to learn more about interactive tables.';\n",
              "          element.innerHTML = '';\n",
              "          dataTable['output_type'] = 'display_data';\n",
              "          await google.colab.output.renderOutput(dataTable, element);\n",
              "          const docLink = document.createElement('div');\n",
              "          docLink.innerHTML = docLinkHtml;\n",
              "          element.appendChild(docLink);\n",
              "        }\n",
              "      </script>\n",
              "    </div>\n",
              "  </div>\n",
              "  "
            ]
          },
          "metadata": {},
          "execution_count": 35
        }
      ],
      "source": [
        "calc_vif(df[[i for i in df.describe().columns if i not in ['Response']]])"
      ]
    },
    {
      "cell_type": "markdown",
      "metadata": {
        "id": "TZkT-vhI7znY"
      },
      "source": [
        "After dropping driving licence we got good scores"
      ]
    },
    {
      "cell_type": "markdown",
      "metadata": {
        "id": "nKT9X9q472tg"
      },
      "source": [
        "### **Handling Imbalance**"
      ]
    },
    {
      "cell_type": "code",
      "execution_count": 36,
      "metadata": {
        "id": "Eo22NmoX7t9z"
      },
      "outputs": [],
      "source": [
        "X=df.drop(['Response'],axis=1) #contain all  independent variable\n",
        "y=df['Response']           #dependent variable"
      ]
    },
    {
      "cell_type": "code",
      "execution_count": 37,
      "metadata": {
        "colab": {
          "base_uri": "https://localhost:8080/"
        },
        "id": "sXiwuNFQ7t7N",
        "outputId": "3628a1e4-8557-416d-82ab-b90968d2b157"
      },
      "outputs": [
        {
          "output_type": "stream",
          "name": "stdout",
          "text": [
            "Original dataset shape 381109\n",
            "Resampled dataset shape 668798\n"
          ]
        }
      ],
      "source": [
        "# importing libraries for resampling\n",
        "# Handling imbalance data\n",
        "from imblearn.over_sampling import SMOTE\n",
        "smote = SMOTE()\n",
        "X,y = smote.fit_resample(X,y)\n",
        "print('Original dataset shape', len(df))\n",
        "print('Resampled dataset shape',len(y))"
      ]
    },
    {
      "cell_type": "code",
      "execution_count": 38,
      "metadata": {
        "colab": {
          "base_uri": "https://localhost:8080/"
        },
        "id": "Bb2kff6M7t4-",
        "outputId": "2bd0757d-2c4c-497c-f6e7-c9edb90760bd"
      },
      "outputs": [
        {
          "output_type": "execute_result",
          "data": {
            "text/plain": [
              "(668798, 9)"
            ]
          },
          "metadata": {},
          "execution_count": 38
        }
      ],
      "source": [
        "X.shape"
      ]
    },
    {
      "cell_type": "markdown",
      "metadata": {
        "id": "t3Fm6vsI8A7S"
      },
      "source": [
        "# **Train-test split**"
      ]
    },
    {
      "cell_type": "code",
      "execution_count": 39,
      "metadata": {
        "id": "aGpM_6jE7t2m"
      },
      "outputs": [],
      "source": [
        "X_train,X_test,y_train,y_test = train_test_split(X, y,test_size=0.20,random_state = 10)"
      ]
    },
    {
      "cell_type": "code",
      "execution_count": 40,
      "metadata": {
        "colab": {
          "base_uri": "https://localhost:8080/"
        },
        "id": "E_ZwwEdt7t0R",
        "outputId": "8c5f1d64-a1d8-4d1b-e0a0-ed1ea8258816"
      },
      "outputs": [
        {
          "output_type": "execute_result",
          "data": {
            "text/plain": [
              "1    267521\n",
              "0    267517\n",
              "Name: Response, dtype: int64"
            ]
          },
          "metadata": {},
          "execution_count": 40
        }
      ],
      "source": [
        "y_train.value_counts()"
      ]
    },
    {
      "cell_type": "code",
      "execution_count": 41,
      "metadata": {
        "colab": {
          "base_uri": "https://localhost:8080/"
        },
        "id": "k9oLLVnW7txw",
        "outputId": "8aaed266-18ed-4f37-d9ae-7e638a49062f"
      },
      "outputs": [
        {
          "output_type": "execute_result",
          "data": {
            "text/plain": [
              "0    66882\n",
              "1    66878\n",
              "Name: Response, dtype: int64"
            ]
          },
          "metadata": {},
          "execution_count": 41
        }
      ],
      "source": [
        "y_test.value_counts()"
      ]
    },
    {
      "cell_type": "markdown",
      "metadata": {
        "id": "lIfPnCBS8LSW"
      },
      "source": [
        "# **Model**"
      ]
    },
    {
      "cell_type": "markdown",
      "metadata": {
        "id": "5HNEwtTi8LMR"
      },
      "source": [
        "# Logistic Regression"
      ]
    },
    {
      "cell_type": "code",
      "execution_count": 42,
      "metadata": {
        "colab": {
          "base_uri": "https://localhost:8080/"
        },
        "id": "azvn6vkn8IwN",
        "outputId": "bc94631a-4c28-41ee-9b0d-439ce4cd15be"
      },
      "outputs": [
        {
          "output_type": "stream",
          "name": "stdout",
          "text": [
            "Accuracy :  77.76988636363636\n",
            "              precision    recall  f1-score   support\n",
            "\n",
            "           0       0.94      0.59      0.73     66882\n",
            "           1       0.70      0.96      0.81     66878\n",
            "\n",
            "    accuracy                           0.78    133760\n",
            "   macro avg       0.82      0.78      0.77    133760\n",
            "weighted avg       0.82      0.78      0.77    133760\n",
            "\n",
            "Confusion matrix : \n",
            " [[39538 27344]\n",
            " [ 2391 64487]]\n"
          ]
        }
      ],
      "source": [
        "# Model of logistic regression\n",
        "LOG_RE=LogisticRegression()\n",
        "LOG_RE=LOG_RE.fit(X_train,y_train)\n",
        "LOG_RE_pred=LOG_RE.predict(X_test)\n",
        "LOG_RE_probability =LOG_RE.predict_proba(X_test)[:,1]\n",
        "\n",
        "# evaluating the model on the following metrics.\n",
        "accu_logreg = accuracy_score(y_test,LOG_RE_pred)\n",
        "recall_logreg = recall_score(y_test,LOG_RE_pred)\n",
        "prec_logreg = precision_score(y_test,LOG_RE_pred)\n",
        "f1score_logreg=f1_score(y_test,LOG_RE_pred)\n",
        "\n",
        "#print accuracy ,classification report and confusion matrix  values of model.\n",
        "print(\"Accuracy : \", accuracy_score(y_test,LOG_RE_pred)*100)\n",
        "print(classification_report(y_test,LOG_RE_pred))\n",
        "\n",
        "matrix = confusion_matrix(y_test,LOG_RE_pred)\n",
        "print('Confusion matrix : \\n',matrix)\n"
      ]
    },
    {
      "cell_type": "code",
      "execution_count": 43,
      "metadata": {
        "colab": {
          "base_uri": "https://localhost:8080/",
          "height": 295
        },
        "id": "oH9ZvUzd8ZKt",
        "outputId": "a6d9e2ff-91d7-443c-dbdb-6691ec50ea40"
      },
      "outputs": [
        {
          "output_type": "display_data",
          "data": {
            "text/plain": [
              "<Figure size 432x288 with 1 Axes>"
            ],
            "image/png": "[encoded data removed]"
          },
          "metadata": {
            "needs_background": "light"
          }
        }
      ],
      "source": [
        "# import ROC curve\n",
        "from sklearn.metrics import roc_curve\n",
        "fpr, tpr, _ = roc_curve(y_test,LOG_RE_probability)\n",
        "\n",
        "plt.title(\"logistic Regression ROC curve\")\n",
        "plt.xlabel('FPR (Precision)')\n",
        "plt.ylabel(\"TRP (Recall)\")\n",
        "\n",
        "# Performance metrics\n",
        "plt.plot(fpr,tpr)\n",
        "plt.plot((0,1), ls='dashed',color='black')\n",
        "plt.show()"
      ]
    },
    {
      "cell_type": "code",
      "execution_count": 44,
      "metadata": {
        "colab": {
          "base_uri": "https://localhost:8080/",
          "height": 317
        },
        "id": "Ma8JamKo8ZB6",
        "outputId": "27133702-b1dc-48b9-d0b0-74c6300873d5"
      },
      "outputs": [
        {
          "output_type": "stream",
          "name": "stdout",
          "text": [
            "[[39538 27344]\n",
            " [ 2391 64487]]\n"
          ]
        },
        {
          "output_type": "execute_result",
          "data": {
            "text/plain": [
              "<matplotlib.axes._subplots.AxesSubplot at 0x7fa1f13b9160>"
            ]
          },
          "metadata": {},
          "execution_count": 44
        },
        {
          "output_type": "display_data",
          "data": {
            "text/plain": [
              "<Figure size 432x288 with 2 Axes>"
            ],
            "image/png": "[encoded data removed]"
          },
          "metadata": {
            "needs_background": "light"
          }
        }
      ],
      "source": [
        "# Confusion matrix\n",
        "cm=confusion_matrix(y_test,LOG_RE_pred)\n",
        "print(cm)\n",
        "sns.heatmap(cm,annot=True,cmap='RdGy')"
      ]
    },
    {
      "cell_type": "markdown",
      "metadata": {
        "id": "76E7k5gE8eVH"
      },
      "source": [
        "# **Decision tree**"
      ]
    },
    {
      "cell_type": "code",
      "execution_count": 45,
      "metadata": {
        "colab": {
          "base_uri": "https://localhost:8080/"
        },
        "id": "wCoKOk698g5z",
        "outputId": "53da9b64-a5e6-4c5a-b8ba-9989822e42dc"
      },
      "outputs": [
        {
          "output_type": "stream",
          "name": "stdout",
          "text": [
            "87.19946172248804\n",
            "              precision    recall  f1-score   support\n",
            "\n",
            "           0       0.88      0.86      0.87     66882\n",
            "           1       0.86      0.88      0.87     66878\n",
            "\n",
            "    accuracy                           0.87    133760\n",
            "   macro avg       0.87      0.87      0.87    133760\n",
            "weighted avg       0.87      0.87      0.87    133760\n",
            "\n",
            "Confusion matrix : \n",
            " [[59129  7749]\n",
            " [ 9373 57509]]\n"
          ]
        }
      ],
      "source": [
        "# Creating instance for our model, fiting and predicitng\n",
        "dtree = DecisionTreeClassifier()\n",
        "dtree = dtree.fit(X_train, y_train)\n",
        "dtree_pred = dtree.predict(X_test)\n",
        "dtree_probability =dtree.predict_proba(X_test)[:,1]\n",
        "\n",
        "# evaluating the model on the following metrics.\n",
        "accu_dtree = accuracy_score(y_test,dtree_pred)\n",
        "recall_dtree = recall_score(y_test,dtree_pred)\n",
        "prec_dtree = precision_score(y_test,dtree_pred)\n",
        "f1score_dtree=f1_score(y_test,dtree_pred)\n",
        "\n",
        "\n",
        "#print accuracy ,classification report and confusion matrix  values of model.\n",
        "\n",
        "print(accuracy_score(y_test, dtree_pred)*100)\n",
        "print(classification_report(y_test, dtree_pred))\n",
        "\n",
        "print('Confusion matrix : \\n',confusion_matrix(y_test,dtree_pred, labels=[1,0]))"
      ]
    },
    {
      "cell_type": "code",
      "execution_count": 46,
      "metadata": {
        "colab": {
          "base_uri": "https://localhost:8080/",
          "height": 295
        },
        "id": "mux49Y2L8g_s",
        "outputId": "153a5d08-b338-4e00-c87d-df425cbf946a"
      },
      "outputs": [
        {
          "output_type": "display_data",
          "data": {
            "text/plain": [
              "<Figure size 432x288 with 1 Axes>"
            ],
            "image/png": "[encoded data removed]"
          },
          "metadata": {
            "needs_background": "light"
          }
        }
      ],
      "source": [
        "# Analyze Performance \n",
        "from sklearn.metrics import roc_curve\n",
        "fpr,tpr, _ = roc_curve(y_test,dtree_probability)\n",
        "\n",
        "plt.title('Decision Tree ROC curve')\n",
        "plt.xlabel('FPR (Precision)')\n",
        "plt.ylabel('TPR (Recall)')\n",
        "\n",
        "plt.plot(fpr,tpr)\n",
        "plt.plot((0,1), ls='dashed',color='black')\n",
        "plt.show()"
      ]
    },
    {
      "cell_type": "code",
      "execution_count": 47,
      "metadata": {
        "colab": {
          "base_uri": "https://localhost:8080/",
          "height": 317
        },
        "id": "COWK_pP-8pDu",
        "outputId": "f9b8eea4-80a6-498e-f304-62b72e36bc00"
      },
      "outputs": [
        {
          "output_type": "stream",
          "name": "stdout",
          "text": [
            "[[57509  9373]\n",
            " [ 7749 59129]]\n"
          ]
        },
        {
          "output_type": "execute_result",
          "data": {
            "text/plain": [
              "<matplotlib.axes._subplots.AxesSubplot at 0x7fa1f129c940>"
            ]
          },
          "metadata": {},
          "execution_count": 47
        },
        {
          "output_type": "display_data",
          "data": {
            "text/plain": [
              "<Figure size 432x288 with 2 Axes>"
            ],
            "image/png": "[encoded data removed]"
          },
          "metadata": {
            "needs_background": "light"
          }
        }
      ],
      "source": [
        "# Confusion matrix useful to find how many values are classified correctly\n",
        "cm=confusion_matrix(y_test,dtree_pred)\n",
        "print(cm)\n",
        "sns.heatmap(cm,annot=True,cmap='copper')"
      ]
    },
    {
      "cell_type": "markdown",
      "metadata": {
        "id": "V0_j1HP68sFz"
      },
      "source": [
        "# **Random** **Forest** **classifier**"
      ]
    },
    {
      "cell_type": "code",
      "execution_count": 48,
      "metadata": {
        "colab": {
          "base_uri": "https://localhost:8080/"
        },
        "id": "corUahGp8pA5",
        "outputId": "54d6fea3-3e4d-4c2a-bf95-5393a1271b67"
      },
      "outputs": [
        {
          "output_type": "stream",
          "name": "stdout",
          "text": [
            "89.58433014354067\n",
            "              precision    recall  f1-score   support\n",
            "\n",
            "           0       0.92      0.87      0.89     66882\n",
            "           1       0.88      0.92      0.90     66878\n",
            "\n",
            "    accuracy                           0.90    133760\n",
            "   macro avg       0.90      0.90      0.90    133760\n",
            "weighted avg       0.90      0.90      0.90    133760\n",
            "\n",
            "Confusion matrix\n",
            " [[58368  8514]\n",
            " [ 5418 61460]]\n"
          ]
        }
      ],
      "source": [
        "# Creating instance for our model, fiting and predicitng\n",
        "rf_tree = RandomForestClassifier()\n",
        "rf_tree.fit(X_train, y_train)\n",
        "rf_tree_pred = rf_tree.predict(X_test)\n",
        "rf_tree_probability = rf_tree.predict_proba(X_test)[:,1]\n",
        "\n",
        "# evaluating the model on the following metrics.\n",
        "accu_rf= accuracy_score(y_test,rf_tree_pred)\n",
        "recall_rf = recall_score(y_test,rf_tree_pred)\n",
        "prec_rf= precision_score(y_test,rf_tree_pred)\n",
        "f1score_rf=f1_score(y_test,rf_tree_pred)\n",
        "\n",
        "#print accuracy ,classification report and confusion matrix  values of model.\n",
        "\n",
        "print(accuracy_score(y_test, rf_tree_pred)*100)\n",
        "print(classification_report(y_test, rf_tree_pred))\n",
        "print(\"Confusion matrix\\n\", confusion_matrix(y_test, rf_tree_pred))"
      ]
    },
    {
      "cell_type": "code",
      "execution_count": 49,
      "metadata": {
        "colab": {
          "base_uri": "https://localhost:8080/",
          "height": 295
        },
        "id": "VZFsFD8f8o93",
        "outputId": "49e76ec0-f570-4965-cbb7-a064f88d8af2"
      },
      "outputs": [
        {
          "output_type": "display_data",
          "data": {
            "text/plain": [
              "<Figure size 432x288 with 1 Axes>"
            ],
            "image/png": "[encoded data removed]"
          },
          "metadata": {
            "needs_background": "light"
          }
        }
      ],
      "source": [
        "# Analyze Performance \n",
        "from sklearn.metrics import roc_curve\n",
        "fpr, tpr, _ = roc_curve(y_test,rf_tree_probability )\n",
        "\n",
        "plt.title('RandomForestClassifier ROC curve')\n",
        "plt.xlabel('FPR (Precision)')\n",
        "plt.ylabel('TPR (Recall)')\n",
        "\n",
        "plt.plot(fpr,tpr)\n",
        "plt.plot((0,1), ls='dashed',color='black')\n",
        "plt.show()"
      ]
    },
    {
      "cell_type": "code",
      "execution_count": 50,
      "metadata": {
        "colab": {
          "base_uri": "https://localhost:8080/",
          "height": 317
        },
        "id": "03Y_2IGD8o66",
        "outputId": "8ba5005e-3466-49c0-e029-8b3196aa50dc"
      },
      "outputs": [
        {
          "output_type": "stream",
          "name": "stdout",
          "text": [
            "[[58368  8514]\n",
            " [ 5418 61460]]\n"
          ]
        },
        {
          "output_type": "execute_result",
          "data": {
            "text/plain": [
              "<matplotlib.axes._subplots.AxesSubplot at 0x7fa1f11dbd60>"
            ]
          },
          "metadata": {},
          "execution_count": 50
        },
        {
          "output_type": "display_data",
          "data": {
            "text/plain": [
              "<Figure size 432x288 with 2 Axes>"
            ],
            "image/png": "[encoded data removed]"
          },
          "metadata": {
            "needs_background": "light"
          }
        }
      ],
      "source": [
        "# Confusion matrix useful to find how many values are classified correctly\n",
        "cm=confusion_matrix(y_test,rf_tree_pred)\n",
        "print(cm)\n",
        "sns.heatmap(cm,annot=True,cmap='BuPu')"
      ]
    },
    {
      "cell_type": "markdown",
      "metadata": {
        "id": "LZJccW5F83Wc"
      },
      "source": [
        "# **XGB Classifier**"
      ]
    },
    {
      "cell_type": "code",
      "execution_count": 51,
      "metadata": {
        "colab": {
          "base_uri": "https://localhost:8080/"
        },
        "id": "TjC0qYmH84pa",
        "outputId": "eaa3bbd2-fc01-4483-caf0-aa996870ebc6"
      },
      "outputs": [
        {
          "output_type": "stream",
          "name": "stdout",
          "text": [
            "84.19407894736842\n",
            "              precision    recall  f1-score   support\n",
            "\n",
            "           0       0.89      0.78      0.83     66882\n",
            "           1       0.80      0.91      0.85     66878\n",
            "\n",
            "    accuracy                           0.84    133760\n",
            "   macro avg       0.85      0.84      0.84    133760\n",
            "weighted avg       0.85      0.84      0.84    133760\n",
            "\n",
            "Confusion matrix\n",
            " [[52030 14852]\n",
            " [ 6290 60588]]\n"
          ]
        }
      ],
      "source": [
        "# Importing of XGBClassifier\n",
        "import xgboost as xgb\n",
        "xgb_model=xgb.XGBClassifier()\n",
        "xgb_model.fit(X_train,y_train)\n",
        "xgb_pred = xgb_model.predict(X_test)\n",
        "xgb_model_probability = xgb_model.predict_proba(X_test)[:,1]\n",
        "\n",
        "# evaluating the model on the following metrics.\n",
        "accu_xgb = accuracy_score(y_test,xgb_pred)\n",
        "recall_xgb = recall_score(y_test,xgb_pred)\n",
        "prec_xgb = precision_score(y_test,xgb_pred)\n",
        "f1score_xgb=f1_score(y_test,xgb_pred)\n",
        "\n",
        "#print accuracy ,classification report and confusion matrix  values of model.\n",
        "\n",
        "print(accuracy_score(y_test, xgb_pred)*100)\n",
        "print(classification_report(y_test, xgb_pred))\n",
        "print(\"Confusion matrix\\n\", confusion_matrix(y_test, xgb_pred))"
      ]
    },
    {
      "cell_type": "code",
      "execution_count": 52,
      "metadata": {
        "colab": {
          "base_uri": "https://localhost:8080/",
          "height": 295
        },
        "id": "UgFUvnZS84Pd",
        "outputId": "84a6adba-2066-4664-b665-83b36dc1267a"
      },
      "outputs": [
        {
          "output_type": "display_data",
          "data": {
            "text/plain": [
              "<Figure size 432x288 with 1 Axes>"
            ],
            "image/png": "[encoded data removed]"
          },
          "metadata": {
            "needs_background": "light"
          }
        }
      ],
      "source": [
        "# performance and evaluation\n",
        "from sklearn.metrics import roc_curve\n",
        "fpr, tpr, _ = roc_curve(y_test,xgb_model_probability)\n",
        "\n",
        "plt.title('XGB Classifier curve')\n",
        "plt.xlabel('FPR (Precision)')\n",
        "plt.ylabel('TPR (Recall)')\n",
        "\n",
        "plt.plot(fpr,tpr)\n",
        "plt.plot((0,1), ls='dashed',color='black')\n",
        "plt.show()"
      ]
    },
    {
      "cell_type": "code",
      "execution_count": 53,
      "metadata": {
        "colab": {
          "base_uri": "https://localhost:8080/",
          "height": 319
        },
        "id": "ozByUD7H-YT5",
        "outputId": "e104bef8-1160-4902-e467-a78c6a33128b"
      },
      "outputs": [
        {
          "output_type": "stream",
          "name": "stdout",
          "text": [
            "[[52030 14852]\n",
            " [ 6290 60588]]\n"
          ]
        },
        {
          "output_type": "execute_result",
          "data": {
            "text/plain": [
              "<matplotlib.axes._subplots.AxesSubplot at 0x7fa1f12735e0>"
            ]
          },
          "metadata": {},
          "execution_count": 53
        },
        {
          "output_type": "display_data",
          "data": {
            "text/plain": [
              "<Figure size 432x288 with 2 Axes>"
            ],
            "image/png": "[encoded data removed]"
          },
          "metadata": {
            "needs_background": "light"
          }
        }
      ],
      "source": [
        "# Confusion matrix useful to find how many values are classified correctly\n",
        "cm=confusion_matrix(y_test,xgb_pred)\n",
        "print(cm)\n",
        "sns.heatmap(cm,annot=True,cmap='BuPu')"
      ]
    },
    {
      "cell_type": "markdown",
      "metadata": {
        "id": "L7uoYA5W-tCt"
      },
      "source": [
        "# **Comparing models**"
      ]
    },
    {
      "cell_type": "code",
      "execution_count": 54,
      "metadata": {
        "colab": {
          "base_uri": "https://localhost:8080/",
          "height": 175
        },
        "id": "r-OjQFzW-YRO",
        "outputId": "38e140e2-e680-4242-b77e-d7ad3343da7c"
      },
      "outputs": [
        {
          "output_type": "execute_result",
          "data": {
            "text/plain": [
              "                     Accuracy    Recall  Precision  f1_score\n",
              "Logistic regression  0.777699  0.964248   0.702236  0.812645\n",
              "Decision Tree        0.871995  0.884132   0.863172  0.873526\n",
              "Randomforest         0.895843  0.918987   0.878326  0.898197\n",
              "XGBClassifier        0.841941  0.905948   0.803128  0.851445"
            ],
            "text/html": [
              "\n",
              "  <div id=\"df-a6ad30ec-6bd8-4c7c-9be3-e340be73acea\">\n",
              "    <div class=\"colab-df-container\">\n",
              "      <div>\n",
              "<style scoped>\n",
              "    .dataframe tbody tr th:only-of-type {\n",
              "        vertical-align: middle;\n",
              "    }\n",
              "\n",
              "    .dataframe tbody tr th {\n",
              "        vertical-align: top;\n",
              "    }\n",
              "\n",
              "    .dataframe thead th {\n",
              "        text-align: right;\n",
              "    }\n",
              "</style>\n",
              "<table border=\"1\" class=\"dataframe\">\n",
              "  <thead>\n",
              "    <tr style=\"text-align: right;\">\n",
              "      <th></th>\n",
              "      <th>Accuracy</th>\n",
              "      <th>Recall</th>\n",
              "      <th>Precision</th>\n",
              "      <th>f1_score</th>\n",
              "    </tr>\n",
              "  </thead>\n",
              "  <tbody>\n",
              "    <tr>\n",
              "      <th>Logistic regression</th>\n",
              "      <td>0.777699</td>\n",
              "      <td>0.964248</td>\n",
              "      <td>0.702236</td>\n",
              "      <td>0.812645</td>\n",
              "    </tr>\n",
              "    <tr>\n",
              "      <th>Decision Tree</th>\n",
              "      <td>0.871995</td>\n",
              "      <td>0.884132</td>\n",
              "      <td>0.863172</td>\n",
              "      <td>0.873526</td>\n",
              "    </tr>\n",
              "    <tr>\n",
              "      <th>Randomforest</th>\n",
              "      <td>0.895843</td>\n",
              "      <td>0.918987</td>\n",
              "      <td>0.878326</td>\n",
              "      <td>0.898197</td>\n",
              "    </tr>\n",
              "    <tr>\n",
              "      <th>XGBClassifier</th>\n",
              "      <td>0.841941</td>\n",
              "      <td>0.905948</td>\n",
              "      <td>0.803128</td>\n",
              "      <td>0.851445</td>\n",
              "    </tr>\n",
              "  </tbody>\n",
              "</table>\n",
              "</div>\n",
              "      <button class=\"colab-df-convert\" onclick=\"convertToInteractive('df-a6ad30ec-6bd8-4c7c-9be3-e340be73acea')\"\n",
              "              title=\"Convert this dataframe to an interactive table.\"\n",
              "              style=\"display:none;\">\n",
              "        \n",
              "  <svg xmlns=\"http://www.w3.org/2000/svg\" height=\"24px\"viewBox=\"0 0 24 24\"\n",
              "       width=\"24px\">\n",
              "    <path d=\"M0 0h24v24H0V0z\" fill=\"none\"/>\n",
              "    <path d=\"M18.56 5.44l.94 2.06.94-2.06 2.06-.94-2.06-.94-.94-2.06-.94 2.06-2.06.94zm-11 1L8.5 8.5l.94-2.06 2.06-.94-2.06-.94L8.5 2.5l-.94 2.06-2.06.94zm10 10l.94 2.06.94-2.06 2.06-.94-2.06-.94-.94-2.06-.94 2.06-2.06.94z\"/><path d=\"M17.41 7.96l-1.37-1.37c-.4-.4-.92-.59-1.43-.59-.52 0-1.04.2-1.43.59L10.3 9.45l-7.72 7.72c-.78.78-.78 2.05 0 2.83L4 21.41c.39.39.9.59 1.41.59.51 0 1.02-.2 1.41-.59l7.78-7.78 2.81-2.81c.8-.78.8-2.07 0-2.86zM5.41 20L4 18.59l7.72-7.72 1.47 1.35L5.41 20z\"/>\n",
              "  </svg>\n",
              "      </button>\n",
              "      \n",
              "  <style>\n",
              "    .colab-df-container {\n",
              "      display:flex;\n",
              "      flex-wrap:wrap;\n",
              "      gap: 12px;\n",
              "    }\n",
              "\n",
              "    .colab-df-convert {\n",
              "      background-color: #E8F0FE;\n",
              "      border: none;\n",
              "      border-radius: 50%;\n",
              "      cursor: pointer;\n",
              "      display: none;\n",
              "      fill: #1967D2;\n",
              "      height: 32px;\n",
              "      padding: 0 0 0 0;\n",
              "      width: 32px;\n",
              "    }\n",
              "\n",
              "    .colab-df-convert:hover {\n",
              "      background-color: #E2EBFA;\n",
              "      box-shadow: 0px 1px 2px rgba(60, 64, 67, 0.3), 0px 1px 3px 1px rgba(60, 64, 67, 0.15);\n",
              "      fill: #174EA6;\n",
              "    }\n",
              "\n",
              "    [theme=dark] .colab-df-convert {\n",
              "      background-color: #3B4455;\n",
              "      fill: #D2E3FC;\n",
              "    }\n",
              "\n",
              "    [theme=dark] .colab-df-convert:hover {\n",
              "      background-color: #434B5C;\n",
              "      box-shadow: 0px 1px 3px 1px rgba(0, 0, 0, 0.15);\n",
              "      filter: drop-shadow(0px 1px 2px rgba(0, 0, 0, 0.3));\n",
              "      fill: #FFFFFF;\n",
              "    }\n",
              "  </style>\n",
              "\n",
              "      <script>\n",
              "        const buttonEl =\n",
              "          document.querySelector('#df-a6ad30ec-6bd8-4c7c-9be3-e340be73acea button.colab-df-convert');\n",
              "        buttonEl.style.display =\n",
              "          google.colab.kernel.accessAllowed ? 'block' : 'none';\n",
              "\n",
              "        async function convertToInteractive(key) {\n",
              "          const element = document.querySelector('#df-a6ad30ec-6bd8-4c7c-9be3-e340be73acea');\n",
              "          const dataTable =\n",
              "            await google.colab.kernel.invokeFunction('convertToInteractive',\n",
              "                                                     [key], {});\n",
              "          if (!dataTable) return;\n",
              "\n",
              "          const docLinkHtml = 'Like what you see? Visit the ' +\n",
              "            '<a target=\"_blank\" href=https://colab.research.google.com/notebooks/data_table.ipynb>data table notebook</a>'\n",
              "            + ' to learn more about interactive tables.';\n",
              "          element.innerHTML = '';\n",
              "          dataTable['output_type'] = 'display_data';\n",
              "          await google.colab.output.renderOutput(dataTable, element);\n",
              "          const docLink = document.createElement('div');\n",
              "          docLink.innerHTML = docLinkHtml;\n",
              "          element.appendChild(docLink);\n",
              "        }\n",
              "      </script>\n",
              "    </div>\n",
              "  </div>\n",
              "  "
            ]
          },
          "metadata": {},
          "execution_count": 54
        }
      ],
      "source": [
        "ind=['Logistic regression','Decision Tree','Randomforest','XGBClassifier']\n",
        "df={\"Accuracy\":[accu_logreg,accu_dtree,accu_rf,accu_xgb],\"Recall\":[recall_logreg,recall_dtree,recall_rf,recall_xgb],\"Precision\":[prec_logreg,prec_dtree,prec_rf,prec_xgb],'f1_score':[f1score_logreg,f1score_dtree,f1score_rf,f1score_xgb]}\n",
        "result=pd.DataFrame(data=df,index=ind)\n",
        "result"
      ]
    },
    {
      "cell_type": "markdown",
      "metadata": {
        "id": "gjENA3Jo-yKH"
      },
      "source": [
        "# **Hyperparameter tuning**"
      ]
    },
    {
      "cell_type": "code",
      "execution_count": 55,
      "metadata": {
        "colab": {
          "base_uri": "https://localhost:8080/"
        },
        "id": "bSNSDEt--YOg",
        "outputId": "a217c25d-3702-4809-e622-8f0a1d742615"
      },
      "outputs": [
        {
          "output_type": "stream",
          "name": "stdout",
          "text": [
            "Looking in indexes: https://pypi.org/simple, https://us-python.pkg.dev/colab-wheels/public/simple/\n",
            "Collecting scikit-optimize\n",
            "  Downloading scikit_optimize-0.9.0-py2.py3-none-any.whl (100 kB)\n",
            "\u001b[K     |████████████████████████████████| 100 kB 5.2 MB/s \n",
            "\u001b[?25hRequirement already satisfied: joblib>=0.11 in /usr/local/lib/python3.8/dist-packages (from scikit-optimize) (1.2.0)\n",
            "Collecting pyaml>=16.9\n",
            "  Downloading pyaml-21.10.1-py2.py3-none-any.whl (24 kB)\n",
            "Requirement already satisfied: scikit-learn>=0.20.0 in /usr/local/lib/python3.8/dist-packages (from scikit-optimize) (1.0.2)\n",
            "Requirement already satisfied: scipy>=0.19.1 in /usr/local/lib/python3.8/dist-packages (from scikit-optimize) (1.7.3)\n",
            "Requirement already satisfied: numpy>=1.13.3 in /usr/local/lib/python3.8/dist-packages (from scikit-optimize) (1.21.6)\n",
            "Requirement already satisfied: PyYAML in /usr/local/lib/python3.8/dist-packages (from pyaml>=16.9->scikit-optimize) (6.0)\n",
            "Requirement already satisfied: threadpoolctl>=2.0.0 in /usr/local/lib/python3.8/dist-packages (from scikit-learn>=0.20.0->scikit-optimize) (3.1.0)\n",
            "Installing collected packages: pyaml, scikit-optimize\n",
            "Successfully installed pyaml-21.10.1 scikit-optimize-0.9.0\n"
          ]
        }
      ],
      "source": [
        "pip install scikit-optimize"
      ]
    },
    {
      "cell_type": "code",
      "execution_count": 56,
      "metadata": {
        "id": "rrFfmlNl-YLX"
      },
      "outputs": [],
      "source": [
        "from skopt import BayesSearchCV\n",
        "from skopt.space import Real, Categorical, Integer"
      ]
    },
    {
      "cell_type": "code",
      "execution_count": 57,
      "metadata": {
        "colab": {
          "base_uri": "https://localhost:8080/"
        },
        "id": "UQ72Cdr4-4I2",
        "outputId": "ea82dacb-ce44-4490-d7d4-8f7cbf94d653"
      },
      "outputs": [
        {
          "output_type": "stream",
          "name": "stdout",
          "text": [
            "Fitting 5 folds for each of 1 candidates, totalling 5 fits\n",
            "[CV] END max_depth=8, max_features=log2, min_samples_leaf=84, min_samples_split=56, n_estimators=40; total time=  20.7s\n",
            "[CV] END max_depth=8, max_features=log2, min_samples_leaf=84, min_samples_split=56, n_estimators=40; total time=  21.0s\n",
            "[CV] END max_depth=8, max_features=log2, min_samples_leaf=84, min_samples_split=56, n_estimators=40; total time=  20.7s\n",
            "[CV] END max_depth=8, max_features=log2, min_samples_leaf=84, min_samples_split=56, n_estimators=40; total time=  20.7s\n",
            "[CV] END max_depth=8, max_features=log2, min_samples_leaf=84, min_samples_split=56, n_estimators=40; total time=  23.6s\n",
            "Fitting 5 folds for each of 1 candidates, totalling 5 fits\n",
            "[CV] END max_depth=45, max_features=log2, min_samples_leaf=27, min_samples_split=74, n_estimators=136; total time= 1.9min\n",
            "[CV] END max_depth=45, max_features=log2, min_samples_leaf=27, min_samples_split=74, n_estimators=136; total time= 1.9min\n",
            "[CV] END max_depth=45, max_features=log2, min_samples_leaf=27, min_samples_split=74, n_estimators=136; total time= 2.0min\n",
            "[CV] END max_depth=45, max_features=log2, min_samples_leaf=27, min_samples_split=74, n_estimators=136; total time= 1.9min\n",
            "[CV] END max_depth=45, max_features=log2, min_samples_leaf=27, min_samples_split=74, n_estimators=136; total time= 1.9min\n",
            "Fitting 5 folds for each of 1 candidates, totalling 5 fits\n",
            "[CV] END max_depth=42, max_features=log2, min_samples_leaf=52, min_samples_split=11, n_estimators=125; total time= 1.7min\n",
            "[CV] END max_depth=42, max_features=log2, min_samples_leaf=52, min_samples_split=11, n_estimators=125; total time= 1.7min\n",
            "[CV] END max_depth=42, max_features=log2, min_samples_leaf=52, min_samples_split=11, n_estimators=125; total time= 1.7min\n",
            "[CV] END max_depth=42, max_features=log2, min_samples_leaf=52, min_samples_split=11, n_estimators=125; total time= 1.7min\n",
            "[CV] END max_depth=42, max_features=log2, min_samples_leaf=52, min_samples_split=11, n_estimators=125; total time= 1.7min\n",
            "Fitting 5 folds for each of 1 candidates, totalling 5 fits\n",
            "[CV] END max_depth=15, max_features=auto, min_samples_leaf=58, min_samples_split=35, n_estimators=135; total time= 1.6min\n",
            "[CV] END max_depth=15, max_features=auto, min_samples_leaf=58, min_samples_split=35, n_estimators=135; total time= 1.6min\n",
            "[CV] END max_depth=15, max_features=auto, min_samples_leaf=58, min_samples_split=35, n_estimators=135; total time= 1.6min\n",
            "[CV] END max_depth=15, max_features=auto, min_samples_leaf=58, min_samples_split=35, n_estimators=135; total time= 1.6min\n",
            "[CV] END max_depth=15, max_features=auto, min_samples_leaf=58, min_samples_split=35, n_estimators=135; total time= 1.5min\n",
            "Fitting 5 folds for each of 1 candidates, totalling 5 fits\n",
            "[CV] END max_depth=80, max_features=sqrt, min_samples_leaf=15, min_samples_split=21, n_estimators=13; total time=  11.1s\n",
            "[CV] END max_depth=80, max_features=sqrt, min_samples_leaf=15, min_samples_split=21, n_estimators=13; total time=  11.4s\n",
            "[CV] END max_depth=80, max_features=sqrt, min_samples_leaf=15, min_samples_split=21, n_estimators=13; total time=  11.2s\n",
            "[CV] END max_depth=80, max_features=sqrt, min_samples_leaf=15, min_samples_split=21, n_estimators=13; total time=  11.4s\n",
            "[CV] END max_depth=80, max_features=sqrt, min_samples_leaf=15, min_samples_split=21, n_estimators=13; total time=  11.4s\n",
            "Fitting 5 folds for each of 1 candidates, totalling 5 fits\n",
            "[CV] END max_depth=11, max_features=log2, min_samples_leaf=85, min_samples_split=35, n_estimators=105; total time= 1.0min\n",
            "[CV] END max_depth=11, max_features=log2, min_samples_leaf=85, min_samples_split=35, n_estimators=105; total time= 1.1min\n",
            "[CV] END max_depth=11, max_features=log2, min_samples_leaf=85, min_samples_split=35, n_estimators=105; total time= 1.0min\n",
            "[CV] END max_depth=11, max_features=log2, min_samples_leaf=85, min_samples_split=35, n_estimators=105; total time= 1.0min\n",
            "[CV] END max_depth=11, max_features=log2, min_samples_leaf=85, min_samples_split=35, n_estimators=105; total time= 1.1min\n",
            "Fitting 5 folds for each of 1 candidates, totalling 5 fits\n",
            "[CV] END max_depth=10, max_features=log2, min_samples_leaf=31, min_samples_split=29, n_estimators=58; total time=  33.4s\n",
            "[CV] END max_depth=10, max_features=log2, min_samples_leaf=31, min_samples_split=29, n_estimators=58; total time=  33.8s\n",
            "[CV] END max_depth=10, max_features=log2, min_samples_leaf=31, min_samples_split=29, n_estimators=58; total time=  36.6s\n",
            "[CV] END max_depth=10, max_features=log2, min_samples_leaf=31, min_samples_split=29, n_estimators=58; total time=  33.2s\n",
            "[CV] END max_depth=10, max_features=log2, min_samples_leaf=31, min_samples_split=29, n_estimators=58; total time=  33.6s\n",
            "Fitting 5 folds for each of 1 candidates, totalling 5 fits\n",
            "[CV] END max_depth=53, max_features=log2, min_samples_leaf=64, min_samples_split=16, n_estimators=6; total time=   5.2s\n",
            "[CV] END max_depth=53, max_features=log2, min_samples_leaf=64, min_samples_split=16, n_estimators=6; total time=   5.0s\n",
            "[CV] END max_depth=53, max_features=log2, min_samples_leaf=64, min_samples_split=16, n_estimators=6; total time=   4.8s\n",
            "[CV] END max_depth=53, max_features=log2, min_samples_leaf=64, min_samples_split=16, n_estimators=6; total time=   5.0s\n",
            "[CV] END max_depth=53, max_features=log2, min_samples_leaf=64, min_samples_split=16, n_estimators=6; total time=   5.2s\n",
            "Fitting 5 folds for each of 1 candidates, totalling 5 fits\n",
            "[CV] END max_depth=63, max_features=sqrt, min_samples_leaf=86, min_samples_split=93, n_estimators=20; total time=  14.9s\n",
            "[CV] END max_depth=63, max_features=sqrt, min_samples_leaf=86, min_samples_split=93, n_estimators=20; total time=  15.1s\n",
            "[CV] END max_depth=63, max_features=sqrt, min_samples_leaf=86, min_samples_split=93, n_estimators=20; total time=  15.3s\n",
            "[CV] END max_depth=63, max_features=sqrt, min_samples_leaf=86, min_samples_split=93, n_estimators=20; total time=  15.4s\n",
            "[CV] END max_depth=63, max_features=sqrt, min_samples_leaf=86, min_samples_split=93, n_estimators=20; total time=  15.7s\n",
            "Fitting 5 folds for each of 1 candidates, totalling 5 fits\n",
            "[CV] END max_depth=52, max_features=auto, min_samples_leaf=80, min_samples_split=88, n_estimators=75; total time=  57.4s\n",
            "[CV] END max_depth=52, max_features=auto, min_samples_leaf=80, min_samples_split=88, n_estimators=75; total time= 1.0min\n",
            "[CV] END max_depth=52, max_features=auto, min_samples_leaf=80, min_samples_split=88, n_estimators=75; total time=  57.0s\n",
            "[CV] END max_depth=52, max_features=auto, min_samples_leaf=80, min_samples_split=88, n_estimators=75; total time=  58.6s\n",
            "[CV] END max_depth=52, max_features=auto, min_samples_leaf=80, min_samples_split=88, n_estimators=75; total time=  58.2s\n"
          ]
        },
        {
          "output_type": "execute_result",
          "data": {
            "text/plain": [
              "BayesSearchCV(cv=5, estimator=RandomForestClassifier(random_state=40),\n",
              "              n_iter=10, scoring='accuracy',\n",
              "              search_spaces={'max_depth': Integer(low=2, high=100, prior='uniform', transform='normalize'),\n",
              "                             'max_features': ['auto', 'sqrt', 'log2'],\n",
              "                             'min_samples_leaf': Integer(low=1, high=100, prior='uniform', transform='normalize'),\n",
              "                             'min_samples_split': Integer(low=2, high=100, prior='uniform', transform='normalize'),\n",
              "                             'n_estimators': Integer(low=1, high=140, prior='uniform', transform='normalize')},\n",
              "              verbose=2)"
            ]
          },
          "metadata": {},
          "execution_count": 57
        }
      ],
      "source": [
        "#Hyperparameter Tuning on RandomForestClassifier\n",
        "\n",
        "rf = RandomForestClassifier(random_state=40)\n",
        "#Cross validation and hyperparameter tuning\n",
        "rf_bayes = BayesSearchCV(estimator= rf,\n",
        "                         search_spaces = {\n",
        "                          'max_depth': Integer(2,100),\n",
        "                          'min_samples_leaf': Integer(1,100),\n",
        "                          'min_samples_split': Integer(2,100),\n",
        "                          'n_estimators': Integer(1,140),\n",
        "                          'max_features': [\"auto\", \"sqrt\", \"log2\"]\n",
        "                        },\n",
        "                       cv = 5, verbose=2, scoring='accuracy',n_iter=10)\n",
        "\n",
        "rf_bayes.fit(X_train,y_train)"
      ]
    },
    {
      "cell_type": "code",
      "execution_count": 58,
      "metadata": {
        "id": "x9GaimhV-4GA",
        "colab": {
          "base_uri": "https://localhost:8080/"
        },
        "outputId": "206faa6d-ea2b-44d7-90a4-6238449b73d9"
      },
      "outputs": [
        {
          "output_type": "execute_result",
          "data": {
            "text/plain": [
              "OrderedDict([('max_depth', 80),\n",
              "             ('max_features', 'sqrt'),\n",
              "             ('min_samples_leaf', 15),\n",
              "             ('min_samples_split', 21),\n",
              "             ('n_estimators', 13)])"
            ]
          },
          "metadata": {},
          "execution_count": 58
        }
      ],
      "source": [
        "rf_bayes.best_params_"
      ]
    },
    {
      "cell_type": "code",
      "execution_count": 59,
      "metadata": {
        "id": "9w4agEXf-38b",
        "colab": {
          "base_uri": "https://localhost:8080/"
        },
        "outputId": "f43731af-9311-46f7-b9ce-c089e00f54fd"
      },
      "outputs": [
        {
          "output_type": "execute_result",
          "data": {
            "text/plain": [
              "RandomForestClassifier(max_depth=80, max_features='sqrt', min_samples_leaf=15,\n",
              "                       min_samples_split=21, n_estimators=13, random_state=40)"
            ]
          },
          "metadata": {},
          "execution_count": 59
        }
      ],
      "source": [
        "rf_bayes.best_estimator_"
      ]
    },
    {
      "cell_type": "code",
      "execution_count": 60,
      "metadata": {
        "id": "MItRgWxS_Cp_"
      },
      "outputs": [],
      "source": [
        "rf_bayestest_pred=rf_bayes.best_estimator_.predict(X_test)"
      ]
    },
    {
      "cell_type": "code",
      "execution_count": 61,
      "metadata": {
        "id": "smGgFqJd_Cnr"
      },
      "outputs": [],
      "source": [
        "rf_model_probability = rf_bayes.best_estimator_.predict_proba(X_test)[:,1]"
      ]
    },
    {
      "cell_type": "code",
      "execution_count": 62,
      "metadata": {
        "id": "tnMuVcca_Cka",
        "colab": {
          "base_uri": "https://localhost:8080/"
        },
        "outputId": "de45eca5-23ae-4021-bc26-2d2a9e6d54d2"
      },
      "outputs": [
        {
          "output_type": "stream",
          "name": "stdout",
          "text": [
            "86.45858253588517\n",
            "              precision    recall  f1-score   support\n",
            "\n",
            "           0       0.89      0.83      0.86     66882\n",
            "           1       0.84      0.90      0.87     66878\n",
            "\n",
            "    accuracy                           0.86    133760\n",
            "   macro avg       0.87      0.86      0.86    133760\n",
            "weighted avg       0.87      0.86      0.86    133760\n",
            "\n",
            "Confusion matrix\n",
            " [[55470 11412]\n",
            " [ 6701 60177]]\n"
          ]
        }
      ],
      "source": [
        "# evaluating the model on the following metrics.\n",
        "accu_rf_hp = accuracy_score(y_test,rf_bayestest_pred)\n",
        "recall_rf_hp = recall_score(y_test,rf_bayestest_pred)\n",
        "prec_rf_hp = precision_score(y_test,rf_bayestest_pred)\n",
        "f1score_rf_hp=f1_score(y_test,rf_bayestest_pred)\n",
        "\n",
        "#print accuracy ,classification report and confusion matrix  values of model.\n",
        "\n",
        "print(accuracy_score(y_test, rf_bayestest_pred)*100)\n",
        "print(classification_report(y_test, rf_bayestest_pred))\n",
        "print(\"Confusion matrix\\n\", confusion_matrix(y_test, rf_bayestest_pred))"
      ]
    },
    {
      "cell_type": "code",
      "execution_count": 63,
      "metadata": {
        "id": "FwcNfC_G_Chi",
        "colab": {
          "base_uri": "https://localhost:8080/",
          "height": 295
        },
        "outputId": "3d2a094b-0a53-48ed-c57c-e3421ff75c3c"
      },
      "outputs": [
        {
          "output_type": "display_data",
          "data": {
            "text/plain": [
              "<Figure size 432x288 with 1 Axes>"
            ],
            "image/png": "[encoded data removed]"
          },
          "metadata": {
            "needs_background": "light"
          }
        }
      ],
      "source": [
        " #performance and evaluation\n",
        "from sklearn.metrics import roc_curve\n",
        "fpr, tpr, _ = roc_curve(y_test,rf_model_probability)\n",
        "\n",
        "plt.title('RandomForestClassifier')\n",
        "plt.xlabel('FPR (Precision)')\n",
        "plt.ylabel('TPR (Recall)')\n",
        "\n",
        "plt.plot(fpr,tpr)\n",
        "plt.plot((0,1), ls='dashed',color='black')\n",
        "plt.show()"
      ]
    },
    {
      "cell_type": "code",
      "execution_count": 64,
      "metadata": {
        "id": "qIU2cj4a_N-E",
        "colab": {
          "base_uri": "https://localhost:8080/",
          "height": 321
        },
        "outputId": "3344a353-d58d-4d24-f75f-bddf199a9507"
      },
      "outputs": [
        {
          "output_type": "stream",
          "name": "stdout",
          "text": [
            "[[55470 11412]\n",
            " [ 6701 60177]]\n"
          ]
        },
        {
          "output_type": "execute_result",
          "data": {
            "text/plain": [
              "<matplotlib.axes._subplots.AxesSubplot at 0x7fa1eaba60d0>"
            ]
          },
          "metadata": {},
          "execution_count": 64
        },
        {
          "output_type": "display_data",
          "data": {
            "text/plain": [
              "<Figure size 432x288 with 2 Axes>"
            ],
            "image/png": "[encoded data removed]"
          },
          "metadata": {
            "needs_background": "light"
          }
        }
      ],
      "source": [
        "# Confusion matrix useful to find how many values are classified correctly\n",
        "cm=confusion_matrix(y_test,rf_bayestest_pred)\n",
        "print(cm)\n",
        "sns.heatmap(cm,annot=True,cmap='BuPu')"
      ]
    },
    {
      "cell_type": "markdown",
      "metadata": {
        "id": "mwlp5XKm_TwS"
      },
      "source": [
        "# **XGBoost Classifier**"
      ]
    },
    {
      "cell_type": "code",
      "execution_count": 65,
      "metadata": {
        "id": "BkHKCpKW_N7Z",
        "colab": {
          "base_uri": "https://localhost:8080/"
        },
        "outputId": "62a5f631-2c96-497f-f305-efd20e9d0b18"
      },
      "outputs": [
        {
          "output_type": "stream",
          "name": "stdout",
          "text": [
            "Fitting 5 folds for each of 1 candidates, totalling 5 fits\n",
            "[CV] END max_depth=73, max_features=log2, min_samples_leaf=99, min_samples_split=98, n_estimators=68; total time= 6.9min\n",
            "[CV] END max_depth=73, max_features=log2, min_samples_leaf=99, min_samples_split=98, n_estimators=68; total time= 6.9min\n",
            "[CV] END max_depth=73, max_features=log2, min_samples_leaf=99, min_samples_split=98, n_estimators=68; total time= 6.8min\n",
            "[CV] END max_depth=73, max_features=log2, min_samples_leaf=99, min_samples_split=98, n_estimators=68; total time= 6.8min\n",
            "[CV] END max_depth=73, max_features=log2, min_samples_leaf=99, min_samples_split=98, n_estimators=68; total time= 6.8min\n",
            "Fitting 5 folds for each of 1 candidates, totalling 5 fits\n",
            "[CV] END max_depth=30, max_features=sqrt, min_samples_leaf=98, min_samples_split=53, n_estimators=86; total time= 4.2min\n",
            "[CV] END max_depth=30, max_features=sqrt, min_samples_leaf=98, min_samples_split=53, n_estimators=86; total time= 4.2min\n",
            "[CV] END max_depth=30, max_features=sqrt, min_samples_leaf=98, min_samples_split=53, n_estimators=86; total time= 4.2min\n",
            "[CV] END max_depth=30, max_features=sqrt, min_samples_leaf=98, min_samples_split=53, n_estimators=86; total time= 4.1min\n",
            "[CV] END max_depth=30, max_features=sqrt, min_samples_leaf=98, min_samples_split=53, n_estimators=86; total time= 4.1min\n",
            "Fitting 5 folds for each of 1 candidates, totalling 5 fits\n",
            "[CV] END max_depth=37, max_features=sqrt, min_samples_leaf=14, min_samples_split=51, n_estimators=85; total time= 5.0min\n",
            "[CV] END max_depth=37, max_features=sqrt, min_samples_leaf=14, min_samples_split=51, n_estimators=85; total time= 5.0min\n",
            "[CV] END max_depth=37, max_features=sqrt, min_samples_leaf=14, min_samples_split=51, n_estimators=85; total time= 4.9min\n",
            "[CV] END max_depth=37, max_features=sqrt, min_samples_leaf=14, min_samples_split=51, n_estimators=85; total time= 5.0min\n",
            "[CV] END max_depth=37, max_features=sqrt, min_samples_leaf=14, min_samples_split=51, n_estimators=85; total time= 4.9min\n",
            "Fitting 5 folds for each of 1 candidates, totalling 5 fits\n",
            "[CV] END max_depth=17, max_features=log2, min_samples_leaf=7, min_samples_split=99, n_estimators=12; total time=  19.1s\n",
            "[CV] END max_depth=17, max_features=log2, min_samples_leaf=7, min_samples_split=99, n_estimators=12; total time=  19.2s\n",
            "[CV] END max_depth=17, max_features=log2, min_samples_leaf=7, min_samples_split=99, n_estimators=12; total time=  19.0s\n",
            "[CV] END max_depth=17, max_features=log2, min_samples_leaf=7, min_samples_split=99, n_estimators=12; total time=  18.9s\n",
            "[CV] END max_depth=17, max_features=log2, min_samples_leaf=7, min_samples_split=99, n_estimators=12; total time=  19.2s\n"
          ]
        },
        {
          "output_type": "execute_result",
          "data": {
            "text/plain": [
              "BayesSearchCV(cv=5, estimator=XGBClassifier(), n_iter=4, scoring='accuracy',\n",
              "              search_spaces={'max_depth': Integer(low=2, high=100, prior='uniform', transform='normalize'),\n",
              "                             'max_features': ['auto', 'sqrt', 'log2'],\n",
              "                             'min_samples_leaf': Integer(low=1, high=100, prior='uniform', transform='normalize'),\n",
              "                             'min_samples_split': Integer(low=2, high=100, prior='uniform', transform='normalize'),\n",
              "                             'n_estimators': Integer(low=1, high=140, prior='uniform', transform='normalize')},\n",
              "              verbose=2)"
            ]
          },
          "metadata": {},
          "execution_count": 65
        }
      ],
      "source": [
        "#hyper parameter tuning\n",
        "xgb_model=xgb.XGBClassifier()\n",
        "#xgb = XGBoostClassifier()\n",
        "#Cross validation and hyperparameter tuning\n",
        "xgb_bayes = BayesSearchCV(estimator= xgb_model,\n",
        "                         search_spaces = {\n",
        "                          'max_depth': Integer(2,100),\n",
        "                          'min_samples_leaf': Integer(1,100),\n",
        "                          'min_samples_split': Integer(2,100),\n",
        "                          'n_estimators': Integer(1,140),\n",
        "                          'max_features': [\"auto\", \"sqrt\", \"log2\"]\n",
        "                        },\n",
        "                       cv = 5, verbose=2, scoring='accuracy',n_iter=4)\n",
        "\n",
        "xgb_bayes.fit(X_train,y_train)"
      ]
    },
    {
      "cell_type": "code",
      "execution_count": 66,
      "metadata": {
        "id": "YKYxGtnm_N4f",
        "colab": {
          "base_uri": "https://localhost:8080/"
        },
        "outputId": "de8dea1c-4403-4140-a180-6789dc81444b"
      },
      "outputs": [
        {
          "output_type": "execute_result",
          "data": {
            "text/plain": [
              "OrderedDict([('max_depth', 37),\n",
              "             ('max_features', 'sqrt'),\n",
              "             ('min_samples_leaf', 14),\n",
              "             ('min_samples_split', 51),\n",
              "             ('n_estimators', 85)])"
            ]
          },
          "metadata": {},
          "execution_count": 66
        }
      ],
      "source": [
        "xgb_bayes.best_params_"
      ]
    },
    {
      "cell_type": "code",
      "execution_count": 67,
      "metadata": {
        "id": "AYhT0fjh_N14",
        "colab": {
          "base_uri": "https://localhost:8080/"
        },
        "outputId": "2ddeb729-8f7f-46a8-a852-62070de5a2ba"
      },
      "outputs": [
        {
          "output_type": "execute_result",
          "data": {
            "text/plain": [
              "XGBClassifier(max_depth=37, max_features='sqrt', min_samples_leaf=14,\n",
              "              min_samples_split=51, n_estimators=85)"
            ]
          },
          "metadata": {},
          "execution_count": 67
        }
      ],
      "source": [
        "xgb_bayes.best_estimator_"
      ]
    },
    {
      "cell_type": "code",
      "execution_count": 68,
      "metadata": {
        "id": "sTDNiLSq_NzN"
      },
      "outputs": [],
      "source": [
        "xgbtest_pred=xgb_bayes.best_estimator_.predict(X_test)"
      ]
    },
    {
      "cell_type": "code",
      "execution_count": 69,
      "metadata": {
        "id": "tm6iEK_J_fpF"
      },
      "outputs": [],
      "source": [
        "xgb_model_probability = rf_bayes.best_estimator_.predict_proba(X_test)[:,1]"
      ]
    },
    {
      "cell_type": "code",
      "source": [
        "# evaluating the model on the following metrics.\n",
        "accu_xgb_hp = accuracy_score(y_test,xgbtest_pred)\n",
        "recall_xgb_hp= recall_score(y_test,xgbtest_pred)\n",
        "prec_xgb_hp = precision_score(y_test,xgbtest_pred)\n",
        "f1score_xgb_hp=f1_score(y_test,xgbtest_pred)\n",
        "\n",
        "#print accuracy ,classification report and confusion matrix  values of model.\n",
        "\n",
        "print(accuracy_score(y_test, xgbtest_pred)*100)\n",
        "print(classification_report(y_test, xgbtest_pred))\n",
        "print(\"Confusion matrix\\n\", confusion_matrix(y_test, xgbtest_pred))"
      ],
      "metadata": {
        "colab": {
          "base_uri": "https://localhost:8080/"
        },
        "id": "aYUGTz-_E1nJ",
        "outputId": "c1fd3580-6254-455c-b690-3fd6f2df314e"
      },
      "execution_count": 70,
      "outputs": [
        {
          "output_type": "stream",
          "name": "stdout",
          "text": [
            "90.39623205741627\n",
            "              precision    recall  f1-score   support\n",
            "\n",
            "           0       0.92      0.89      0.90     66882\n",
            "           1       0.89      0.92      0.91     66878\n",
            "\n",
            "    accuracy                           0.90    133760\n",
            "   macro avg       0.90      0.90      0.90    133760\n",
            "weighted avg       0.90      0.90      0.90    133760\n",
            "\n",
            "Confusion matrix\n",
            " [[59385  7497]\n",
            " [ 5349 61529]]\n"
          ]
        }
      ]
    },
    {
      "cell_type": "code",
      "source": [
        "# performance and evaluation\n",
        "from sklearn.metrics import roc_curve\n",
        "fpr, tpr, _ = roc_curve(y_test,xgb_model_probability)\n",
        "\n",
        "plt.title('XGB Classifier curve')\n",
        "plt.xlabel('FPR (Precision)')\n",
        "plt.ylabel('TPR (Recall)')\n",
        "\n",
        "plt.plot(fpr,tpr)\n",
        "plt.plot((0,1), ls='dashed',color='black')\n",
        "plt.show()"
      ],
      "metadata": {
        "colab": {
          "base_uri": "https://localhost:8080/",
          "height": 295
        },
        "id": "1T-UBGDQE3tW",
        "outputId": "054af60c-6d36-4848-8472-2cf817ce309d"
      },
      "execution_count": 71,
      "outputs": [
        {
          "output_type": "display_data",
          "data": {
            "text/plain": [
              "<Figure size 432x288 with 1 Axes>"
            ],
            "image/png": "[encoded data removed]"
          },
          "metadata": {
            "needs_background": "light"
          }
        }
      ]
    },
    {
      "cell_type": "code",
      "source": [
        "# Confusion matrix useful to find how many values are classified correctly\n",
        "cm=confusion_matrix(y_test,xgbtest_pred)\n",
        "print(cm)\n",
        "sns.heatmap(cm,annot=True,cmap='BuPu')"
      ],
      "metadata": {
        "colab": {
          "base_uri": "https://localhost:8080/",
          "height": 317
        },
        "id": "UBFmPmOJE5YS",
        "outputId": "81ac3c73-36a2-438c-de86-71ad2f929bd7"
      },
      "execution_count": 72,
      "outputs": [
        {
          "output_type": "stream",
          "name": "stdout",
          "text": [
            "[[59385  7497]\n",
            " [ 5349 61529]]\n"
          ]
        },
        {
          "output_type": "execute_result",
          "data": {
            "text/plain": [
              "<matplotlib.axes._subplots.AxesSubplot at 0x7fa1f1b75880>"
            ]
          },
          "metadata": {},
          "execution_count": 72
        },
        {
          "output_type": "display_data",
          "data": {
            "text/plain": [
              "<Figure size 432x288 with 2 Axes>"
            ],
            "image/png": "[encoded data removed]"
          },
          "metadata": {
            "needs_background": "light"
          }
        }
      ]
    },
    {
      "cell_type": "markdown",
      "source": [
        "# **Comparing The Model After Hyperparameter Tuning**"
      ],
      "metadata": {
        "id": "tE0-aD--E74z"
      }
    },
    {
      "cell_type": "code",
      "source": [
        "## Comparing the performance of the models\n",
        "ind=['Randomforest','XGBClassifier']\n",
        "df={\"Accuracy\":[accu_rf_hp,accu_xgb_hp],\"Recall\":[recall_rf_hp,recall_xgb_hp],\"Precision\":[prec_rf_hp,prec_xgb_hp],'f1_score':[f1score_rf_hp,f1score_xgb_hp]}\n",
        "result=pd.DataFrame(data=df,index=ind)\n",
        "result"
      ],
      "metadata": {
        "colab": {
          "base_uri": "https://localhost:8080/",
          "height": 112
        },
        "id": "l4fp1ssPE8op",
        "outputId": "805e6c7d-7370-4966-b429-6ae82d96bc47"
      },
      "execution_count": 73,
      "outputs": [
        {
          "output_type": "execute_result",
          "data": {
            "text/plain": [
              "               Accuracy    Recall  Precision  f1_score\n",
              "Randomforest   0.864586  0.899803   0.840590  0.869189\n",
              "XGBClassifier  0.903962  0.920019   0.891389  0.905477"
            ],
            "text/html": [
              "\n",
              "  <div id=\"df-ff31f024-731e-4bae-a641-1c1993435ae8\">\n",
              "    <div class=\"colab-df-container\">\n",
              "      <div>\n",
              "<style scoped>\n",
              "    .dataframe tbody tr th:only-of-type {\n",
              "        vertical-align: middle;\n",
              "    }\n",
              "\n",
              "    .dataframe tbody tr th {\n",
              "        vertical-align: top;\n",
              "    }\n",
              "\n",
              "    .dataframe thead th {\n",
              "        text-align: right;\n",
              "    }\n",
              "</style>\n",
              "<table border=\"1\" class=\"dataframe\">\n",
              "  <thead>\n",
              "    <tr style=\"text-align: right;\">\n",
              "      <th></th>\n",
              "      <th>Accuracy</th>\n",
              "      <th>Recall</th>\n",
              "      <th>Precision</th>\n",
              "      <th>f1_score</th>\n",
              "    </tr>\n",
              "  </thead>\n",
              "  <tbody>\n",
              "    <tr>\n",
              "      <th>Randomforest</th>\n",
              "      <td>0.864586</td>\n",
              "      <td>0.899803</td>\n",
              "      <td>0.840590</td>\n",
              "      <td>0.869189</td>\n",
              "    </tr>\n",
              "    <tr>\n",
              "      <th>XGBClassifier</th>\n",
              "      <td>0.903962</td>\n",
              "      <td>0.920019</td>\n",
              "      <td>0.891389</td>\n",
              "      <td>0.905477</td>\n",
              "    </tr>\n",
              "  </tbody>\n",
              "</table>\n",
              "</div>\n",
              "      <button class=\"colab-df-convert\" onclick=\"convertToInteractive('df-ff31f024-731e-4bae-a641-1c1993435ae8')\"\n",
              "              title=\"Convert this dataframe to an interactive table.\"\n",
              "              style=\"display:none;\">\n",
              "        \n",
              "  <svg xmlns=\"http://www.w3.org/2000/svg\" height=\"24px\"viewBox=\"0 0 24 24\"\n",
              "       width=\"24px\">\n",
              "    <path d=\"M0 0h24v24H0V0z\" fill=\"none\"/>\n",
              "    <path d=\"M18.56 5.44l.94 2.06.94-2.06 2.06-.94-2.06-.94-.94-2.06-.94 2.06-2.06.94zm-11 1L8.5 8.5l.94-2.06 2.06-.94-2.06-.94L8.5 2.5l-.94 2.06-2.06.94zm10 10l.94 2.06.94-2.06 2.06-.94-2.06-.94-.94-2.06-.94 2.06-2.06.94z\"/><path d=\"M17.41 7.96l-1.37-1.37c-.4-.4-.92-.59-1.43-.59-.52 0-1.04.2-1.43.59L10.3 9.45l-7.72 7.72c-.78.78-.78 2.05 0 2.83L4 21.41c.39.39.9.59 1.41.59.51 0 1.02-.2 1.41-.59l7.78-7.78 2.81-2.81c.8-.78.8-2.07 0-2.86zM5.41 20L4 18.59l7.72-7.72 1.47 1.35L5.41 20z\"/>\n",
              "  </svg>\n",
              "      </button>\n",
              "      \n",
              "  <style>\n",
              "    .colab-df-container {\n",
              "      display:flex;\n",
              "      flex-wrap:wrap;\n",
              "      gap: 12px;\n",
              "    }\n",
              "\n",
              "    .colab-df-convert {\n",
              "      background-color: #E8F0FE;\n",
              "      border: none;\n",
              "      border-radius: 50%;\n",
              "      cursor: pointer;\n",
              "      display: none;\n",
              "      fill: #1967D2;\n",
              "      height: 32px;\n",
              "      padding: 0 0 0 0;\n",
              "      width: 32px;\n",
              "    }\n",
              "\n",
              "    .colab-df-convert:hover {\n",
              "      background-color: #E2EBFA;\n",
              "      box-shadow: 0px 1px 2px rgba(60, 64, 67, 0.3), 0px 1px 3px 1px rgba(60, 64, 67, 0.15);\n",
              "      fill: #174EA6;\n",
              "    }\n",
              "\n",
              "    [theme=dark] .colab-df-convert {\n",
              "      background-color: #3B4455;\n",
              "      fill: #D2E3FC;\n",
              "    }\n",
              "\n",
              "    [theme=dark] .colab-df-convert:hover {\n",
              "      background-color: #434B5C;\n",
              "      box-shadow: 0px 1px 3px 1px rgba(0, 0, 0, 0.15);\n",
              "      filter: drop-shadow(0px 1px 2px rgba(0, 0, 0, 0.3));\n",
              "      fill: #FFFFFF;\n",
              "    }\n",
              "  </style>\n",
              "\n",
              "      <script>\n",
              "        const buttonEl =\n",
              "          document.querySelector('#df-ff31f024-731e-4bae-a641-1c1993435ae8 button.colab-df-convert');\n",
              "        buttonEl.style.display =\n",
              "          google.colab.kernel.accessAllowed ? 'block' : 'none';\n",
              "\n",
              "        async function convertToInteractive(key) {\n",
              "          const element = document.querySelector('#df-ff31f024-731e-4bae-a641-1c1993435ae8');\n",
              "          const dataTable =\n",
              "            await google.colab.kernel.invokeFunction('convertToInteractive',\n",
              "                                                     [key], {});\n",
              "          if (!dataTable) return;\n",
              "\n",
              "          const docLinkHtml = 'Like what you see? Visit the ' +\n",
              "            '<a target=\"_blank\" href=https://colab.research.google.com/notebooks/data_table.ipynb>data table notebook</a>'\n",
              "            + ' to learn more about interactive tables.';\n",
              "          element.innerHTML = '';\n",
              "          dataTable['output_type'] = 'display_data';\n",
              "          await google.colab.output.renderOutput(dataTable, element);\n",
              "          const docLink = document.createElement('div');\n",
              "          docLink.innerHTML = docLinkHtml;\n",
              "          element.appendChild(docLink);\n",
              "        }\n",
              "      </script>\n",
              "    </div>\n",
              "  </div>\n",
              "  "
            ]
          },
          "metadata": {},
          "execution_count": 73
        }
      ]
    },
    {
      "cell_type": "markdown",
      "source": [
        "# **Concusion**"
      ],
      "metadata": {
        "id": "AEA9z3T6FBLV"
      }
    },
    {
      "cell_type": "markdown",
      "source": [
        "\n",
        "\n",
        "*   The given dataset is an imbalance problem as the Response variable with the value 1 is significantly lower than the value zero\n",
        "*  The male customers own slightly more vehicles and they are more tend to buy insurance in comparison to their female counterparts.\n",
        "*   Customers of aged between 30 to 60 are more likely to buy insurance.wheras Youngsters under 30 are not intrigued by vehicle insurance. Reasons could be the absence of involvement, less awareness about insurance and they may not have costly vehicles yet.\n",
        "\n",
        "*   the customers who have driving licences will option for insurance instead of those who don’t have it\n",
        "*   Consumers with 1-2-year-old vehicles are more interested in buying insurance. as compared to Consumers with less than 1-year-old Vehicles\n",
        "\n",
        "*   Customers with Vehicle_Damage are likely to buy insurance as they have experienced the expenditure in repairing vehicles The variable such as Age, Previously_insured, Annual_premium is more affecting the target variable.\n",
        "*   We used different type of algorithms to train our model like, Logistic Regression, Random Forest model, Decision tree and XGB Classifier. And Also we tuned the parameters of XGB Classifier and Random Forest model Comparing the model on the basis of precision,recall, accuracy ,F1 score we can see that the XGBClassifier model performs better.Even comparing ROC curve XGB Classifier performed better because curves closer to the top-left corner indicate better performance."
      ],
      "metadata": {
        "id": "3vpoZnQWFA-I"
      }
    }
  ],
  "metadata": {
    "colab": {
      "provenance": [],
      "mount_file_id": "1QLURF_Y3FZaGESdM7YWy8A403Nu08t3W",
      "authorship_tag": "ABX9TyOzY6h2RWZHx8amBnYIwzRP",
      "include_colab_link": true
    },
    "kernelspec": {
      "display_name": "Python 3",
      "name": "python3"
    },
    "language_info": {
      "name": "python"
    }
  },
  "nbformat": 4,
  "nbformat_minor": 0
}